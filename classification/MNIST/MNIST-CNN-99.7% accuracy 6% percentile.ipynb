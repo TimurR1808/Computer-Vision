{
 "cells": [
  {
   "cell_type": "code",
   "execution_count": 1,
   "id": "84b9c522",
   "metadata": {},
   "outputs": [],
   "source": [
    "import numpy as np\n",
    "import torch\n",
    "import pandas as pd\n",
    "device = torch.device(\"cuda:0\" if torch.cuda.is_available() else \"cpu\")"
   ]
  },
  {
   "cell_type": "code",
   "execution_count": 2,
   "id": "c916ab1e",
   "metadata": {},
   "outputs": [],
   "source": [
    "import seaborn as sns\n",
    "from matplotlib import pyplot as plt\n",
    "%matplotlib inline "
   ]
  },
  {
   "cell_type": "code",
   "execution_count": 3,
   "id": "ffe789f5",
   "metadata": {},
   "outputs": [],
   "source": [
    "kaggle_train = pd.read_csv('C:/datasets/digit-recognizer/train.csv').drop('label',axis=1).values\n",
    "kaggle_labels = pd.read_csv('C:/datasets/digit-recognizer/train.csv')['label'].values"
   ]
  },
  {
   "cell_type": "code",
   "execution_count": 4,
   "id": "03a2e44b",
   "metadata": {},
   "outputs": [
    {
     "data": {
      "text/plain": [
       "dtype('int64')"
      ]
     },
     "execution_count": 4,
     "metadata": {},
     "output_type": "execute_result"
    }
   ],
   "source": [
    "# not normalized images (0-255 pixels)\n",
    "kaggle_train.dtype"
   ]
  },
  {
   "cell_type": "code",
   "execution_count": 5,
   "id": "fea4b3b5",
   "metadata": {},
   "outputs": [
    {
     "data": {
      "text/plain": [
       "dtype('int64')"
      ]
     },
     "execution_count": 5,
     "metadata": {},
     "output_type": "execute_result"
    }
   ],
   "source": [
    "kaggle_labels.dtype"
   ]
  },
  {
   "cell_type": "code",
   "execution_count": 6,
   "id": "73489d2c",
   "metadata": {},
   "outputs": [],
   "source": [
    "from sklearn.preprocessing import MinMaxScaler\n",
    "\n",
    "scaler = MinMaxScaler()\n",
    "kaggle_train = scaler.fit_transform(kaggle_train)"
   ]
  },
  {
   "cell_type": "code",
   "execution_count": 7,
   "id": "eb08ecbf",
   "metadata": {},
   "outputs": [],
   "source": [
    "kaggle_train = torch.tensor(kaggle_train, dtype=torch.float32).view(42000,1,28,28)"
   ]
  },
  {
   "cell_type": "code",
   "execution_count": 8,
   "id": "dfc37066",
   "metadata": {},
   "outputs": [],
   "source": [
    "kaggle_labels = torch.tensor(kaggle_labels, dtype=torch.int64)"
   ]
  },
  {
   "cell_type": "code",
   "execution_count": 9,
   "id": "38fcbd78",
   "metadata": {},
   "outputs": [
    {
     "data": {
      "text/plain": [
       "(torch.float32, torch.int64)"
      ]
     },
     "execution_count": 9,
     "metadata": {},
     "output_type": "execute_result"
    }
   ],
   "source": [
    "kaggle_train.dtype, kaggle_labels.dtype"
   ]
  },
  {
   "cell_type": "code",
   "execution_count": 10,
   "id": "d78c10af",
   "metadata": {},
   "outputs": [],
   "source": [
    "def normalize_dataset(image_dataset):\n",
    "    if str(image_dataset.dtype)[:5] == 'torch' and len(image_dataset.shape) == 4:\n",
    "        for i in range(image_dataset.shape[0]):\n",
    "            new = image_dataset[i][0].flatten()\n",
    "            new = 2*(new/255)-1\n",
    "            image_dataset[i][0] = new.view(28,28) \n",
    "        return image_dataset\n",
    "    else:\n",
    "        raise Exception(\"IMAGE DATASET DOES NOT MEET REQUIREMENTS\")"
   ]
  },
  {
   "cell_type": "code",
   "execution_count": 11,
   "id": "b322f316",
   "metadata": {},
   "outputs": [],
   "source": [
    "# kaggle_train = normalize_dataset(kaggle_train)"
   ]
  },
  {
   "cell_type": "code",
   "execution_count": 12,
   "id": "93768c5b",
   "metadata": {},
   "outputs": [],
   "source": [
    "class KaggleDataset(torch.utils.data.Dataset):\n",
    "    def __init__(self, features, labels):\n",
    "        self.x_train = features\n",
    "        self.y_train = labels\n",
    "        \n",
    "    def __len__(self):\n",
    "        return len(self.y_train)\n",
    "\n",
    "    def __getitem__(self,idx):\n",
    "        return self.x_train[idx],self.y_train[idx]\n"
   ]
  },
  {
   "cell_type": "code",
   "execution_count": 13,
   "id": "307a2552",
   "metadata": {},
   "outputs": [],
   "source": [
    "from torchvision import datasets, transforms\n",
    "\n",
    "train_transforms = transforms.Compose([transforms.RandomRotation(15), \n",
    "                                       transforms.ToTensor()\n",
    "#                                         transforms.Normalize(0.5,0.5)\n",
    "                                       ]) \n",
    "# transforms.RandomRotation(20),\n",
    "# transforms.CenterCrop(28),\n",
    "\n",
    "transform = transforms.Compose([\n",
    "                                    transforms.ToTensor()\n",
    "#                                  transforms.Normalize(0.5,0.5)\n",
    "                               ])\n",
    "\n",
    "kaggle_train = KaggleDataset(kaggle_train, kaggle_labels)\n",
    "\n",
    "train = datasets.MNIST(root='data', train=True,\n",
    "                                   download=True, transform=train_transforms)\n",
    "train_valid = datasets.MNIST(root='data', train=True,\n",
    "                                   download=True, transform=transform)\n",
    "\n",
    "test = datasets.MNIST(root='data', train=False,\n",
    "                                  download=True, transform=train_transforms)\n",
    "\n",
    "test_valid = datasets.MNIST(root='data', train=False,\n",
    "                                  download=True, transform=transform)"
   ]
  },
  {
   "cell_type": "code",
   "execution_count": 14,
   "id": "ecdebbf2",
   "metadata": {},
   "outputs": [],
   "source": [
    "from torch.utils.data.sampler import SubsetRandomSampler\n",
    "\n",
    "valid_size = 0.060952381\n",
    "\n",
    "# obtain training indices that will be used for validation\n",
    "num_kaggle_train = len(kaggle_train)\n",
    "indices = list(range(num_kaggle_train))\n",
    "np.random.shuffle(indices)\n",
    "split = int(np.floor(valid_size * num_kaggle_train))\n",
    "kaggle_train_idx, kaggle_train_valid_idx = indices[split:], indices[:split]\n",
    "\n",
    "# define samplers for obtaining training and validation batches\n",
    "kaggle_train_sampler = SubsetRandomSampler(kaggle_train_idx)\n",
    "kaggle_train_valid_sampler = SubsetRandomSampler(kaggle_train_valid_idx)\n",
    "\n",
    "kaggle_train_loader = torch.utils.data.DataLoader(kaggle_train, batch_size=64,\n",
    "    sampler=kaggle_train_sampler, num_workers=0)\n",
    "kaggle_train_valid_loader = torch.utils.data.DataLoader(kaggle_train, batch_size=64, \n",
    "    sampler=kaggle_train_valid_sampler, num_workers=0)"
   ]
  },
  {
   "cell_type": "code",
   "execution_count": 15,
   "id": "423b39e2",
   "metadata": {},
   "outputs": [],
   "source": [
    "valid_size = 0.064\n",
    "\n",
    "# obtain training indices that will be used for validation\n",
    "num_train = len(train)\n",
    "indices = list(range(num_train))\n",
    "np.random.shuffle(indices)\n",
    "split = int(np.floor(valid_size * num_train))\n",
    "train_idx, train_valid_idx = indices[split:], indices[:split]\n",
    "\n",
    "# define samplers for obtaining training and validation batches\n",
    "train_sampler = SubsetRandomSampler(train_idx)\n",
    "train_valid_sampler = SubsetRandomSampler(train_valid_idx)\n",
    "\n",
    "train_loader = torch.utils.data.DataLoader(train, batch_size=64,\n",
    "    sampler=train_sampler, num_workers=0)\n",
    "train_valid_loader = torch.utils.data.DataLoader(train_valid, batch_size=64, \n",
    "    sampler=train_valid_sampler, num_workers=0)"
   ]
  },
  {
   "cell_type": "code",
   "execution_count": 16,
   "id": "38fe56ec",
   "metadata": {},
   "outputs": [],
   "source": [
    "valid_size = 0.128\n",
    "\n",
    "# obtain training indices that will be used for validation\n",
    "num_test = len(test)\n",
    "indices = list(range(num_test))\n",
    "np.random.shuffle(indices)\n",
    "split = int(np.floor(valid_size * num_test))\n",
    "test_idx, test_valid_idx = indices[split:], indices[:split]\n",
    "\n",
    "# define samplers for obtaining training and validation batches\n",
    "test_sampler = SubsetRandomSampler(test_idx)\n",
    "test_valid_sampler = SubsetRandomSampler(test_valid_idx)\n",
    "\n",
    "test_loader = torch.utils.data.DataLoader(test, batch_size=64,\n",
    "    sampler=test_sampler, num_workers=0)\n",
    "test_valid_loader = torch.utils.data.DataLoader(test_valid, batch_size=64, \n",
    "    sampler=test_valid_sampler, num_workers=0)"
   ]
  },
  {
   "cell_type": "code",
   "execution_count": 17,
   "id": "6b5bb826",
   "metadata": {},
   "outputs": [
    {
     "data": {
      "text/plain": [
       "(39440, 56160, 8720)"
      ]
     },
     "execution_count": 17,
     "metadata": {},
     "output_type": "execute_result"
    }
   ],
   "source": [
    "# for training\n",
    "len(kaggle_train_loader.sampler), len(train_loader.sampler), len(test_loader.sampler)"
   ]
  },
  {
   "cell_type": "code",
   "execution_count": 18,
   "id": "900a489b",
   "metadata": {},
   "outputs": [
    {
     "data": {
      "text/plain": [
       "(2560, 3840, 1280)"
      ]
     },
     "execution_count": 18,
     "metadata": {},
     "output_type": "execute_result"
    }
   ],
   "source": [
    "# for validation\n",
    "len(kaggle_train_valid_loader.sampler), len(train_valid_loader.sampler), len(test_valid_loader.sampler)"
   ]
  },
  {
   "cell_type": "code",
   "execution_count": 19,
   "id": "e9184591",
   "metadata": {},
   "outputs": [],
   "source": [
    "iter1 = iter(kaggle_train_loader)\n",
    "iter2 = iter(train_loader)\n",
    "iter3 = iter(test_loader)"
   ]
  },
  {
   "cell_type": "code",
   "execution_count": 20,
   "id": "0d373f7b",
   "metadata": {},
   "outputs": [],
   "source": [
    "img1, lbl1 = next(iter1)"
   ]
  },
  {
   "cell_type": "code",
   "execution_count": 21,
   "id": "746bf68e",
   "metadata": {},
   "outputs": [
    {
     "data": {
      "text/plain": [
       "tensor([1, 9, 3, 9, 4, 3, 0, 1, 6, 6, 2, 0, 1, 0, 0, 7, 1, 2, 8, 7, 9, 4, 0, 1,\n",
       "        1, 4, 1, 0, 2, 0, 2, 2, 8, 3, 6, 8, 2, 8, 5, 0, 3, 9, 7, 4, 3, 2, 2, 1,\n",
       "        0, 9, 8, 9, 5, 5, 3, 4, 7, 3, 2, 8, 1, 7, 3, 8])"
      ]
     },
     "execution_count": 21,
     "metadata": {},
     "output_type": "execute_result"
    }
   ],
   "source": [
    "lbl1.to(torch.int64)"
   ]
  },
  {
   "cell_type": "code",
   "execution_count": 22,
   "id": "4b9df3c9",
   "metadata": {},
   "outputs": [],
   "source": [
    "img2, lbl2 = next(iter2)"
   ]
  },
  {
   "cell_type": "code",
   "execution_count": 23,
   "id": "e86c24aa",
   "metadata": {},
   "outputs": [
    {
     "data": {
      "text/plain": [
       "tensor([2, 3, 1, 9, 3, 6, 9, 1, 5, 2, 4, 1, 1, 1, 6, 9, 2, 2, 5, 3, 7, 9, 7, 9,\n",
       "        3, 6, 4, 8, 6, 1, 1, 0, 4, 2, 6, 3, 4, 3, 7, 7, 8, 7, 2, 0, 7, 2, 9, 5,\n",
       "        2, 2, 4, 2, 1, 1, 6, 9, 5, 1, 3, 1, 6, 9, 5, 3])"
      ]
     },
     "execution_count": 23,
     "metadata": {},
     "output_type": "execute_result"
    }
   ],
   "source": [
    "lbl2"
   ]
  },
  {
   "cell_type": "code",
   "execution_count": 24,
   "id": "1d5fb4f3",
   "metadata": {},
   "outputs": [],
   "source": [
    "img3, lbl3 = next(iter3)"
   ]
  },
  {
   "cell_type": "code",
   "execution_count": 25,
   "id": "c98a0bf6",
   "metadata": {},
   "outputs": [
    {
     "data": {
      "text/plain": [
       "tensor([1, 9, 0, 3, 9, 5, 0, 2, 0, 6, 5, 9, 3, 6, 3, 3, 1, 1, 4, 3, 6, 5, 7, 9,\n",
       "        2, 3, 1, 3, 8, 2, 7, 3, 2, 7, 9, 0, 3, 8, 4, 5, 9, 6, 1, 5, 6, 2, 1, 2,\n",
       "        8, 3, 7, 3, 0, 2, 8, 5, 0, 1, 9, 6, 3, 2, 8, 0])"
      ]
     },
     "execution_count": 25,
     "metadata": {},
     "output_type": "execute_result"
    }
   ],
   "source": [
    "lbl3"
   ]
  },
  {
   "cell_type": "code",
   "execution_count": 26,
   "id": "07c64c69",
   "metadata": {},
   "outputs": [
    {
     "data": {
      "text/plain": [
       "(tensor(0.), tensor(0.0676), tensor(1.), tensor(0.2293))"
      ]
     },
     "execution_count": 26,
     "metadata": {},
     "output_type": "execute_result"
    }
   ],
   "source": [
    "img1[0].flatten().min(), img1[0].flatten().mean(), img1[0].flatten().max(), img1[0].flatten().std() "
   ]
  },
  {
   "cell_type": "code",
   "execution_count": 27,
   "id": "45e4a002",
   "metadata": {},
   "outputs": [
    {
     "data": {
      "text/plain": [
       "<AxesSubplot:ylabel='Count'>"
      ]
     },
     "execution_count": 27,
     "metadata": {},
     "output_type": "execute_result"
    },
    {
     "data": {
      "image/png": "[encoded data removed]",
      "text/plain": [
       "<Figure size 432x288 with 1 Axes>"
      ]
     },
     "metadata": {
      "needs_background": "light"
     },
     "output_type": "display_data"
    }
   ],
   "source": [
    "sns.histplot(img1[0].flatten())"
   ]
  },
  {
   "cell_type": "code",
   "execution_count": 28,
   "id": "48fd2697",
   "metadata": {},
   "outputs": [
    {
     "data": {
      "text/plain": [
       "(tensor(0.), tensor(0.1723), tensor(1.), tensor(0.3543))"
      ]
     },
     "execution_count": 28,
     "metadata": {},
     "output_type": "execute_result"
    }
   ],
   "source": [
    "img2[0].flatten().min(), img2[0].flatten().mean(), img2[0].flatten().max(), img2[0].flatten().std() "
   ]
  },
  {
   "cell_type": "code",
   "execution_count": 29,
   "id": "51fdb3b4",
   "metadata": {},
   "outputs": [
    {
     "data": {
      "text/plain": [
       "<AxesSubplot:ylabel='Count'>"
      ]
     },
     "execution_count": 29,
     "metadata": {},
     "output_type": "execute_result"
    },
    {
     "data": {
      "image/png": "[encoded data removed]",
      "text/plain": [
       "<Figure size 432x288 with 1 Axes>"
      ]
     },
     "metadata": {
      "needs_background": "light"
     },
     "output_type": "display_data"
    }
   ],
   "source": [
    "sns.histplot(img2[0].flatten())"
   ]
  },
  {
   "cell_type": "code",
   "execution_count": 30,
   "id": "a6b083de",
   "metadata": {},
   "outputs": [
    {
     "data": {
      "text/plain": [
       "(tensor(0.), tensor(0.1245), tensor(1.), tensor(0.3124))"
      ]
     },
     "execution_count": 30,
     "metadata": {},
     "output_type": "execute_result"
    }
   ],
   "source": [
    "img3[0].flatten().min(), img3[0].flatten().mean(), img3[0].flatten().max(), img3[0].flatten().std() "
   ]
  },
  {
   "cell_type": "code",
   "execution_count": 31,
   "id": "b5ac6f95",
   "metadata": {},
   "outputs": [
    {
     "data": {
      "text/plain": [
       "<AxesSubplot:ylabel='Count'>"
      ]
     },
     "execution_count": 31,
     "metadata": {},
     "output_type": "execute_result"
    },
    {
     "data": {
      "image/png": "[encoded data removed]",
      "text/plain": [
       "<Figure size 432x288 with 1 Axes>"
      ]
     },
     "metadata": {
      "needs_background": "light"
     },
     "output_type": "display_data"
    }
   ],
   "source": [
    "sns.histplot(img3[0].flatten())"
   ]
  },
  {
   "cell_type": "code",
   "execution_count": 32,
   "id": "ef6ebdc8",
   "metadata": {},
   "outputs": [
    {
     "name": "stdout",
     "output_type": "stream",
     "text": [
      "tensor(0.) tensor(0.0676) tensor(1.) tensor(0.2293)\n",
      "tensor(0.) tensor(0.1769) tensor(1.) tensor(0.3550)\n",
      "tensor(0.) tensor(0.1471) tensor(1.) tensor(0.3220)\n",
      "tensor(0.) tensor(0.1228) tensor(1.) tensor(0.2938)\n",
      "tensor(0.) tensor(0.1113) tensor(1.) tensor(0.2859)\n",
      "============================\n",
      "mean_mean_of_batch: 0.13264235854148865, mean_std_of_batch: 0.30367863178253174\n"
     ]
    }
   ],
   "source": [
    "mean_mean_of_batch = []\n",
    "mean_std_of_batch = []\n",
    "for i in range(img1.shape[0]):\n",
    "    mean_mean_of_batch.append(img1[i][0].mean())\n",
    "    mean_std_of_batch.append(img1[i][0].std())\n",
    "    if i < 5:\n",
    "        print(img1[i][0].min(), img1[i][0].mean(), img1[i][0].max(), img1[i][0].std())\n",
    "print(\"============================\")\n",
    "print(f\"mean_mean_of_batch: {np.array(mean_mean_of_batch).mean()}, mean_std_of_batch: {np.array(mean_std_of_batch).mean()}\")"
   ]
  },
  {
   "cell_type": "code",
   "execution_count": 33,
   "id": "b2a0df38",
   "metadata": {},
   "outputs": [
    {
     "name": "stdout",
     "output_type": "stream",
     "text": [
      "tensor(0.) tensor(0.1723) tensor(1.) tensor(0.3543)\n",
      "tensor(0.) tensor(0.1632) tensor(1.) tensor(0.3396)\n",
      "tensor(0.) tensor(0.0899) tensor(1.) tensor(0.2708)\n",
      "tensor(0.) tensor(0.0998) tensor(1.) tensor(0.2672)\n",
      "tensor(0.) tensor(0.1518) tensor(1.) tensor(0.3325)\n",
      "============================\n",
      "mean_mean_of_batch: 0.12863576412200928, mean_std_of_batch: 0.2995503842830658\n"
     ]
    }
   ],
   "source": [
    "mean_mean_of_batch = []\n",
    "mean_std_of_batch = []\n",
    "for i in range(img2.shape[0]):\n",
    "    mean_mean_of_batch.append(img2[i][0].mean())\n",
    "    mean_std_of_batch.append(img2[i][0].std())\n",
    "    if i < 5:\n",
    "        print(img2[i][0].min(), img2[i][0].mean(), img2[i][0].max(), img2[i][0].std())\n",
    "print(\"============================\")\n",
    "print(f\"mean_mean_of_batch: {np.array(mean_mean_of_batch).mean()}, mean_std_of_batch: {np.array(mean_std_of_batch).mean()}\")"
   ]
  },
  {
   "cell_type": "code",
   "execution_count": 34,
   "id": "a50cf70c",
   "metadata": {},
   "outputs": [
    {
     "name": "stdout",
     "output_type": "stream",
     "text": [
      "tensor(0.) tensor(0.1245) tensor(1.) tensor(0.3124)\n",
      "tensor(0.) tensor(0.1447) tensor(1.) tensor(0.3287)\n",
      "tensor(0.) tensor(0.1506) tensor(1.) tensor(0.3248)\n",
      "tensor(0.) tensor(0.1848) tensor(1.) tensor(0.3617)\n",
      "tensor(0.) tensor(0.0948) tensor(1.) tensor(0.2688)\n",
      "============================\n",
      "mean_mean_of_batch: 0.13368050754070282, mean_std_of_batch: 0.30511733889579773\n"
     ]
    }
   ],
   "source": [
    "mean_mean_of_batch = []\n",
    "mean_std_of_batch = []\n",
    "for i in range(img3.shape[0]):\n",
    "    mean_mean_of_batch.append(img3[i][0].mean())\n",
    "    mean_std_of_batch.append(img3[i][0].std())\n",
    "    if i < 5:\n",
    "        print(img3[i][0].min(), img3[i][0].mean(), img3[i][0].max(), img3[i][0].std())\n",
    "print(\"============================\")\n",
    "print(f\"mean_mean_of_batch: {np.array(mean_mean_of_batch).mean()}, mean_std_of_batch: {np.array(mean_std_of_batch).mean()}\")"
   ]
  },
  {
   "cell_type": "code",
   "execution_count": 35,
   "id": "bb63061c",
   "metadata": {},
   "outputs": [
    {
     "data": {
      "image/png": "[encoded data removed]",
      "text/plain": [
       "<Figure size 144x144 with 1 Axes>"
      ]
     },
     "metadata": {
      "needs_background": "light"
     },
     "output_type": "display_data"
    },
    {
     "data": {
      "image/png": "[encoded data removed]",
      "text/plain": [
       "<Figure size 144x144 with 1 Axes>"
      ]
     },
     "metadata": {
      "needs_background": "light"
     },
     "output_type": "display_data"
    },
    {
     "data": {
      "image/png": "[encoded data removed]",
      "text/plain": [
       "<Figure size 144x144 with 1 Axes>"
      ]
     },
     "metadata": {
      "needs_background": "light"
     },
     "output_type": "display_data"
    }
   ],
   "source": [
    "# show 3 random images of data set\n",
    "for i in (np.random.rand(3)*100).astype('int'):\n",
    "    plt.figure(figsize=(2, 2))\n",
    "    plt.imshow(kaggle_train_loader.dataset.x_train[i].squeeze(), interpolation='nearest')\n",
    "    plt.show()"
   ]
  },
  {
   "cell_type": "code",
   "execution_count": 36,
   "id": "4d0b55de",
   "metadata": {},
   "outputs": [
    {
     "name": "stdout",
     "output_type": "stream",
     "text": [
      "Net(\n",
      "  (conv1): Conv2d(1, 20, kernel_size=(2, 2), stride=(1, 1), padding=(1, 1))\n",
      "  (norm1): BatchNorm2d(20, eps=1e-05, momentum=0.1, affine=True, track_running_stats=True)\n",
      "  (conv2): Conv2d(20, 40, kernel_size=(2, 2), stride=(1, 1), padding=(1, 1))\n",
      "  (norm2): BatchNorm2d(40, eps=1e-05, momentum=0.1, affine=True, track_running_stats=True)\n",
      "  (conv3): Conv2d(40, 60, kernel_size=(2, 2), stride=(1, 1), padding=(1, 1))\n",
      "  (norm3): BatchNorm2d(60, eps=1e-05, momentum=0.1, affine=True, track_running_stats=True)\n",
      "  (pool): MaxPool2d(kernel_size=2, stride=2, padding=0, dilation=1, ceil_mode=False)\n",
      "  (fc1): Linear(in_features=960, out_features=512, bias=True)\n",
      "  (fc2): Linear(in_features=512, out_features=256, bias=True)\n",
      "  (fc3): Linear(in_features=256, out_features=128, bias=True)\n",
      "  (fc4): Linear(in_features=128, out_features=10, bias=True)\n",
      "  (dropout): Dropout(p=0.2, inplace=False)\n",
      ")\n"
     ]
    }
   ],
   "source": [
    "import torch.nn as nn\n",
    "import torch.nn as nn\n",
    "import torch.nn.functional as F\n",
    "\n",
    "# define the CNN architecture\n",
    "class Net(nn.Module):\n",
    "    def __init__(self):\n",
    "        super(Net, self).__init__()\n",
    "\n",
    "        self.conv1 = nn.Conv2d(1, 20, 2, padding=1)\n",
    "        self.norm1 = nn.BatchNorm2d(20)\n",
    "\n",
    "        self.conv2 = nn.Conv2d(20, 40, 2, padding=1)\n",
    "        self.norm2 = nn.BatchNorm2d(40)\n",
    "        \n",
    "        self.conv3 = nn.Conv2d(40, 60, 2, padding=1)\n",
    "        self.norm3 = nn.BatchNorm2d(60)\n",
    "\n",
    "        # max pooling layer\n",
    "        self.pool = nn.MaxPool2d(2, 2)\n",
    "\n",
    "        self.fc1 = nn.Linear(60 * 4 * 4, 512)\n",
    "        self.fc2 = nn.Linear(512, 256)\n",
    "        self.fc3 = nn.Linear(256, 128)\n",
    "        self.fc4 = nn.Linear(128, 10)\n",
    "        \n",
    "        # dropout layer (p=0.25)\n",
    "        self.dropout = nn.Dropout(0.2)\n",
    "\n",
    "    def forward(self, x):\n",
    "        # add sequence of convolutional and max pooling layers\n",
    "        x = x.view(x.shape[0],1,28,28)\n",
    "        \n",
    "        x = self.norm1(self.pool(F.relu(self.conv1(x))))\n",
    "        \n",
    "        x = self.dropout(x)\n",
    "        \n",
    "        x = self.norm2(self.pool(F.relu(self.conv2(x))))\n",
    "        \n",
    "        x = self.dropout(x)\n",
    "        \n",
    "        x = self.norm3(self.pool(F.relu(self.conv3(x))))\n",
    "        \n",
    "\n",
    "        x = self.dropout(x)\n",
    "\n",
    "        # flatten image input\n",
    "        x = x.view(-1, 60 * 4 * 4)\n",
    "\n",
    "        x = F.relu(self.fc1(x))\n",
    "\n",
    "        x = self.dropout(x)\n",
    "\n",
    "        x = F.relu(self.fc2(x))\n",
    "\n",
    "        x = self.dropout(x)\n",
    "        \n",
    "        x = F.relu(self.fc3(x))\n",
    "\n",
    "        x = self.dropout(x)\n",
    "\n",
    "        x = F.log_softmax(self.fc4(x), dim=1)\n",
    "\n",
    "        return x\n",
    "\n",
    "# create a complete CNN\n",
    "model = Net().to(device)\n",
    "print(model)\n"
   ]
  },
  {
   "cell_type": "code",
   "execution_count": 37,
   "id": "1ac4b93b",
   "metadata": {},
   "outputs": [],
   "source": [
    "from torch import optim\n",
    "criterion = nn.NLLLoss()\n",
    "optimizer = optim.SGD(model.parameters(), lr=0.0001, momentum=0.9)"
   ]
  },
  {
   "cell_type": "code",
   "execution_count": 38,
   "id": "f896b774",
   "metadata": {},
   "outputs": [
    {
     "name": "stdout",
     "output_type": "stream",
     "text": [
      "Kaggle train Loss: 2.304414\n",
      "\n",
      "Kaggle train Accuracy of     0:  0% ( 0/284)\n",
      "Kaggle train Accuracy of     1:  0% ( 0/275)\n",
      "Kaggle train Accuracy of     2:  0% ( 0/254)\n",
      "Kaggle train Accuracy of     3:  0% ( 0/254)\n",
      "Kaggle train Accuracy of     4:  0% ( 0/242)\n",
      "Kaggle train Accuracy of     5: 100% (239/239)\n",
      "Kaggle train Accuracy of     6:  0% ( 0/258)\n",
      "Kaggle train Accuracy of     7:  0% ( 0/270)\n",
      "Kaggle train Accuracy of     8:  0% ( 0/219)\n",
      "Kaggle train Accuracy of     9:  0% ( 0/265)\n",
      "\n",
      "Kaggle train (Overall): 9% (239/2560)\n",
      "======================================\n",
      "Test Loss: 2.303120\n",
      "\n",
      "Train Accuracy of     0:  0% ( 0/376)\n",
      "Train Accuracy of     1:  0% ( 0/447)\n",
      "Train Accuracy of     2:  0% ( 0/365)\n",
      "Train Accuracy of     3:  0% ( 0/371)\n",
      "Train Accuracy of     4:  0% ( 0/377)\n",
      "Train Accuracy of     5: 100% (365/365)\n",
      "Train Accuracy of     6:  0% ( 0/388)\n",
      "Train Accuracy of     7:  0% ( 0/387)\n",
      "Train Accuracy of     8:  0% ( 0/378)\n",
      "Train Accuracy of     9:  0% ( 0/386)\n",
      "\n",
      "Train Accuracy (Overall): 9% (365/3840)\n",
      "=====================================\n",
      "Test Loss: 2.305053\n",
      "\n",
      "Test Accuracy of     0:  0% ( 0/117)\n",
      "Test Accuracy of     1:  0% ( 0/153)\n",
      "Test Accuracy of     2:  0% ( 0/141)\n",
      "Test Accuracy of     3:  0% ( 0/124)\n",
      "Test Accuracy of     4:  0% ( 0/128)\n",
      "Test Accuracy of     5: 100% (114/114)\n",
      "Test Accuracy of     6:  0% ( 0/137)\n",
      "Test Accuracy of     7:  0% ( 0/118)\n",
      "Test Accuracy of     8:  0% ( 0/117)\n",
      "Test Accuracy of     9:  0% ( 0/131)\n",
      "\n",
      "Test Accuracy (Overall): 8% (114/1280)\n"
     ]
    }
   ],
   "source": [
    "# initialize lists to monitor test loss and accuracy\n",
    "valid_loss = 0.0\n",
    "class_correct = list(0. for i in range(10))\n",
    "class_total = list(0. for i in range(10))\n",
    "\n",
    "model.eval() # prep model for training\n",
    "\n",
    "for data, target in kaggle_train_valid_loader:\n",
    "    target = torch.tensor(np.array(target)).to(torch.int64)\n",
    "    # forward pass: compute predicted outputs by passing inputs to the model\n",
    "    output = model(data.to(device))\n",
    "    # calculate the loss\n",
    "    loss = criterion(output, target.to(device))\n",
    "    # update test loss \n",
    "    valid_loss += loss.item()*data.size(0)\n",
    "    # convert output probabilities to predicted class\n",
    "    _, pred = torch.max(output, 1)\n",
    "    # compare predictions to true label\n",
    "    correct = np.squeeze(pred.eq(target.to(device).data.view_as(pred)))\n",
    "    # calculate test accuracy for each object class\n",
    "    for i in range(64):\n",
    "        label = target.data[i]\n",
    "        class_correct[label] += correct[i].item()\n",
    "        class_total[label] += 1\n",
    "\n",
    "# calculate and print avg test loss\n",
    "valid_loss = valid_loss/len(kaggle_train_valid_loader.sampler)\n",
    "print('Kaggle train Loss: {:.6f}\\n'.format(valid_loss))\n",
    "\n",
    "for i in range(10):\n",
    "    if class_total[i] > 0:\n",
    "        print('Kaggle train Accuracy of %5s: %2d%% (%2d/%2d)' % (\n",
    "            str(i), 100 * class_correct[i] / class_total[i],\n",
    "            np.sum(class_correct[i]), np.sum(class_total[i])))\n",
    "    else:\n",
    "        print('Kaggle train Accuracy of %5s: N/A (no training examples)' % (classes[i]))\n",
    "\n",
    "print('\\nKaggle train (Overall): %0d%% (%2d/%2d)' % (\n",
    "    100. * np.sum(class_correct) / np.sum(class_total),\n",
    "    np.sum(class_correct), np.sum(class_total)))\n",
    "print('======================================')\n",
    "\n",
    "############################################################################################################\n",
    "############################################################################################################\n",
    "############################################################################################################\n",
    "############################################################################################################\n",
    "\n",
    "# initialize lists to monitor test loss and accuracy\n",
    "valid_loss = 0.0\n",
    "class_correct = list(0. for i in range(10))\n",
    "class_total = list(0. for i in range(10))\n",
    "\n",
    "model.eval() # prep model for training\n",
    "\n",
    "for data, target in train_valid_loader:\n",
    "    # forward pass: compute predicted outputs by passing inputs to the model\n",
    "    output = model(data.to(device))\n",
    "    # calculate the loss\n",
    "    loss = criterion(output, target.to(device))\n",
    "    # update test loss \n",
    "    valid_loss += loss.item()*data.size(0)\n",
    "    # convert output probabilities to predicted class\n",
    "    _, pred = torch.max(output, 1)\n",
    "    # compare predictions to true label\n",
    "    correct = np.squeeze(pred.eq(target.to(device).data.view_as(pred)))\n",
    "    # calculate test accuracy for each object class\n",
    "    for i in range(64):\n",
    "        label = target.data[i]\n",
    "        class_correct[label] += correct[i].item()\n",
    "        class_total[label] += 1\n",
    "\n",
    "# calculate and print avg test loss\n",
    "valid_loss = valid_loss/len(train_valid_loader.sampler)\n",
    "print('Test Loss: {:.6f}\\n'.format(valid_loss))\n",
    "\n",
    "for i in range(10):\n",
    "    if class_total[i] > 0:\n",
    "        print('Train Accuracy of %5s: %2d%% (%2d/%2d)' % (\n",
    "            str(i), 100 * class_correct[i] / class_total[i],\n",
    "            np.sum(class_correct[i]), np.sum(class_total[i])))\n",
    "    else:\n",
    "        print('Train Accuracy of %5s: N/A (no training examples)' % (classes[i]))\n",
    "\n",
    "print('\\nTrain Accuracy (Overall): %0d%% (%2d/%2d)' % (\n",
    "    100. * np.sum(class_correct) / np.sum(class_total),\n",
    "    np.sum(class_correct), np.sum(class_total)))\n",
    "\n",
    "print('=====================================')\n",
    "\n",
    "############################################################################################################\n",
    "############################################################################################################\n",
    "############################################################################################################\n",
    "############################################################################################################\n",
    "\n",
    "\n",
    "# initialize lists to monitor test loss and accuracy\n",
    "valid_loss = 0.0\n",
    "class_correct = list(0. for i in range(10))\n",
    "class_total = list(0. for i in range(10))\n",
    "\n",
    "model.eval() # prep model for training\n",
    "\n",
    "for data, target in test_valid_loader:\n",
    "    # forward pass: compute predicted outputs by passing inputs to the model\n",
    "    output = model(data.to(device))\n",
    "    # calculate the loss\n",
    "    loss = criterion(output, target.to(device))\n",
    "    # update test loss \n",
    "    valid_loss += loss.item()*data.size(0)\n",
    "    # convert output probabilities to predicted class\n",
    "    _, pred = torch.max(output, 1)\n",
    "    # compare predictions to true label\n",
    "    correct = np.squeeze(pred.eq(target.to(device).data.view_as(pred)))\n",
    "    # calculate test accuracy for each object class\n",
    "    for i in range(64):\n",
    "        label = target.data[i]\n",
    "        class_correct[label] += correct[i].item()\n",
    "        class_total[label] += 1\n",
    "\n",
    "# calculate and print avg test loss\n",
    "valid_loss = valid_loss/len(test_valid_loader.sampler)\n",
    "print('Test Loss: {:.6f}\\n'.format(valid_loss))\n",
    "\n",
    "for i in range(10):\n",
    "    if class_total[i] > 0:\n",
    "        print('Test Accuracy of %5s: %2d%% (%2d/%2d)' % (\n",
    "            str(i), 100 * class_correct[i] / class_total[i],\n",
    "            np.sum(class_correct[i]), np.sum(class_total[i])))\n",
    "    else:\n",
    "        print('Test Accuracy of %5s: N/A (no training examples)' % (classes[i]))\n",
    "\n",
    "print('\\nTest Accuracy (Overall): %0d%% (%2d/%2d)' % (\n",
    "    100. * np.sum(class_correct) / np.sum(class_total),\n",
    "    np.sum(class_correct), np.sum(class_total)))"
   ]
  },
  {
   "cell_type": "code",
   "execution_count": null,
   "id": "a5de81e6",
   "metadata": {},
   "outputs": [],
   "source": [
    "# TRAINING\n",
    "# batch_size is 70, so number of batches is 600\n",
    "# loop for 1 epoch\n",
    "epochs = 50\n",
    "accuracy_min = 0.997135\n",
    "\n",
    "for e in range(epochs):\n",
    "    print(f\"Epoch number {e+1}\")\n",
    "    model.train()\n",
    "    train_loss = 0\n",
    "    kaggle_train_loss = 0\n",
    "    test_loss = 0.0\n",
    "    class_correct = list(0. for i in range(10))\n",
    "    class_total = list(0. for i in range(10))\n",
    "    \n",
    "    \n",
    "    for data, target in kaggle_train_loader:\n",
    "        target = torch.tensor(np.array(target)).to(torch.int64)\n",
    "        X_batch = data.to(device)\n",
    "        y_batch = target.to(device)\n",
    "        optimizer.zero_grad()\n",
    "        loss = criterion(model(X_batch), y_batch)\n",
    "        loss.backward()\n",
    "        optimizer.step()\n",
    "        kaggle_train_loss += loss.item()\n",
    "\n",
    "    for data, target in train_loader:\n",
    "        target = torch.tensor(np.array(target)).to(torch.int64)\n",
    "        X_batch = data.to(device)\n",
    "        y_batch = torch.tensor(np.array(target)).to(torch.int64).to(device)\n",
    "        optimizer.zero_grad()\n",
    "        loss = criterion(model(X_batch), y_batch)\n",
    "        loss.backward()\n",
    "        optimizer.step()\n",
    "        train_loss += loss.item()\n",
    "        \n",
    "    for data, target in test_loader:\n",
    "        target = torch.tensor(np.array(target)).to(torch.int64)\n",
    "        X_batch = data.to(device)\n",
    "        y_batch = target.to(device)\n",
    "        optimizer.zero_grad()\n",
    "        loss = criterion(model(X_batch), y_batch)\n",
    "        loss.backward()\n",
    "        optimizer.step()\n",
    "        test_loss += loss.item()\n",
    "    \n",
    "    # VALIDATION\n",
    "    model.eval()    \n",
    "    for data, target in kaggle_train_valid_loader:\n",
    "        target = torch.tensor(np.array(target)).to(torch.int64)\n",
    "        # forward pass: compute predicted outputs by passing inputs to the model\n",
    "        output = model(data.to(device))\n",
    "        # calculate the loss\n",
    "        loss = criterion(output, target.to(device))\n",
    "        # update test loss \n",
    "        test_loss += loss.item()*data.size(0)\n",
    "        # convert output probabilities to predicted class\n",
    "        _, pred = torch.max(output, 1)\n",
    "        # compare predictions to true label\n",
    "        correct = np.squeeze(pred.eq(target.to(device).data.view_as(pred)))\n",
    "        # calculate test accuracy for each object class\n",
    "        for i in range(64):\n",
    "            label = target.data[i]\n",
    "            class_correct[label] += correct[i].item()\n",
    "            class_total[label] += 1\n",
    "            \n",
    "    for data, target in train_valid_loader:\n",
    "        target = torch.tensor(np.array(target)).to(torch.int64)\n",
    "        # forward pass: compute predicted outputs by passing inputs to the model\n",
    "        output = model(data.to(device))\n",
    "        # calculate the loss\n",
    "        loss = criterion(output, target.to(device))\n",
    "        # update test loss \n",
    "        test_loss += loss.item()*data.size(0)\n",
    "        # convert output probabilities to predicted class\n",
    "        _, pred = torch.max(output, 1)\n",
    "        # compare predictions to true label\n",
    "        correct = np.squeeze(pred.eq(target.to(device).data.view_as(pred)))\n",
    "        # calculate test accuracy for each object class\n",
    "        for i in range(64):\n",
    "            label = target.data[i]\n",
    "            class_correct[label] += correct[i].item()\n",
    "            class_total[label] += 1\n",
    "    \n",
    "    for data, target in test_valid_loader:\n",
    "        target = torch.tensor(np.array(target)).to(torch.int64)\n",
    "        # forward pass: compute predicted outputs by passing inputs to the model\n",
    "        output = model(data.to(device))\n",
    "        # calculate the loss\n",
    "        loss = criterion(output, target.to(device))\n",
    "        # update test loss \n",
    "        test_loss += loss.item()*data.size(0)\n",
    "        # convert output probabilities to predicted class\n",
    "        _, pred = torch.max(output, 1)\n",
    "        # compare predictions to true label\n",
    "        correct = np.squeeze(pred.eq(target.to(device).data.view_as(pred)))\n",
    "        # calculate test accuracy for each object class\n",
    "        for i in range(64):\n",
    "            label = target.data[i]\n",
    "            class_correct[label] += correct[i].item()\n",
    "            class_total[label] += 1\n",
    "            \n",
    "    accuracy = np.sum(class_correct) / np.sum(class_total)\n",
    "    print(f\"train_loss: {kaggle_train_loss/len(kaggle_train_loader.sampler)}, train_loss: {train_loss/len(train_loader.sampler)}, train_loss: {test_loss/len(test_loader.sampler)}, accuracy on valid_set: {accuracy.item()}\")\n",
    "    if accuracy >= accuracy_min:\n",
    "        print('Accuracy metrics increased ({:.6f} --> {:.6f}).  Saving model ...'.format(accuracy_min,accuracy))\n",
    "        torch.save(model.state_dict(), 'MNIST-CNN.pt')\n",
    "        accuracy_min = accuracy\n",
    "    print(\"=========================================\")\n",
    "    "
   ]
  },
  {
   "cell_type": "code",
   "execution_count": 39,
   "id": "071c77be",
   "metadata": {},
   "outputs": [
    {
     "data": {
      "text/plain": [
       "<All keys matched successfully>"
      ]
     },
     "execution_count": 39,
     "metadata": {},
     "output_type": "execute_result"
    }
   ],
   "source": [
    "model.load_state_dict(torch.load('MNIST-CNN.pt'))"
   ]
  },
  {
   "cell_type": "code",
   "execution_count": 40,
   "id": "34367513",
   "metadata": {},
   "outputs": [
    {
     "name": "stdout",
     "output_type": "stream",
     "text": [
      "Kaggle train Loss: 0.004343\n",
      "\n",
      "Kaggle train Accuracy of     0: 100% (284/284)\n",
      "Kaggle train Accuracy of     1: 100% (275/275)\n",
      "Kaggle train Accuracy of     2: 100% (254/254)\n",
      "Kaggle train Accuracy of     3: 100% (254/254)\n",
      "Kaggle train Accuracy of     4: 100% (242/242)\n",
      "Kaggle train Accuracy of     5: 99% (238/239)\n",
      "Kaggle train Accuracy of     6: 100% (258/258)\n",
      "Kaggle train Accuracy of     7: 100% (270/270)\n",
      "Kaggle train Accuracy of     8: 100% (219/219)\n",
      "Kaggle train Accuracy of     9: 99% (264/265)\n",
      "\n",
      "Kaggle train (Overall): 99% (2558/2560)\n",
      "======================================\n",
      "Test Loss: 0.005454\n",
      "\n",
      "Train Accuracy of     0: 100% (376/376)\n",
      "Train Accuracy of     1: 99% (446/447)\n",
      "Train Accuracy of     2: 99% (364/365)\n",
      "Train Accuracy of     3: 99% (369/371)\n",
      "Train Accuracy of     4: 100% (377/377)\n",
      "Train Accuracy of     5: 99% (364/365)\n",
      "Train Accuracy of     6: 99% (387/388)\n",
      "Train Accuracy of     7: 100% (387/387)\n",
      "Train Accuracy of     8: 99% (377/378)\n",
      "Train Accuracy of     9: 99% (384/386)\n",
      "\n",
      "Train Accuracy (Overall): 99% (3831/3840)\n",
      "=====================================\n",
      "Test Loss: 0.004384\n",
      "\n",
      "Test Accuracy of     0: 100% (117/117)\n",
      "Test Accuracy of     1: 100% (153/153)\n",
      "Test Accuracy of     2: 100% (141/141)\n",
      "Test Accuracy of     3: 100% (124/124)\n",
      "Test Accuracy of     4: 100% (128/128)\n",
      "Test Accuracy of     5: 100% (114/114)\n",
      "Test Accuracy of     6: 100% (137/137)\n",
      "Test Accuracy of     7: 100% (118/118)\n",
      "Test Accuracy of     8: 99% (116/117)\n",
      "Test Accuracy of     9: 99% (130/131)\n",
      "\n",
      "Test Accuracy (Overall): 99% (1278/1280)\n"
     ]
    }
   ],
   "source": [
    "# initialize lists to monitor test loss and accuracy\n",
    "valid_loss = 0.0\n",
    "class_correct = list(0. for i in range(10))\n",
    "class_total = list(0. for i in range(10))\n",
    "\n",
    "model.eval() # prep model for training\n",
    "\n",
    "for data, target in kaggle_train_valid_loader:\n",
    "    target = torch.tensor(np.array(target)).to(torch.int64)\n",
    "    # forward pass: compute predicted outputs by passing inputs to the model\n",
    "    output = model(data.to(device))\n",
    "    # calculate the loss\n",
    "    loss = criterion(output, target.to(device))\n",
    "    # update test loss \n",
    "    valid_loss += loss.item()*data.size(0)\n",
    "    # convert output probabilities to predicted class\n",
    "    _, pred = torch.max(output, 1)\n",
    "    # compare predictions to true label\n",
    "    correct = np.squeeze(pred.eq(target.to(device).data.view_as(pred)))\n",
    "    # calculate test accuracy for each object class\n",
    "    for i in range(64):\n",
    "        label = target.data[i]\n",
    "        class_correct[label] += correct[i].item()\n",
    "        class_total[label] += 1\n",
    "\n",
    "# calculate and print avg test loss\n",
    "valid_loss = valid_loss/len(kaggle_train_valid_loader.sampler)\n",
    "print('Kaggle train Loss: {:.6f}\\n'.format(valid_loss))\n",
    "\n",
    "for i in range(10):\n",
    "    if class_total[i] > 0:\n",
    "        print('Kaggle train Accuracy of %5s: %2d%% (%2d/%2d)' % (\n",
    "            str(i), 100 * class_correct[i] / class_total[i],\n",
    "            np.sum(class_correct[i]), np.sum(class_total[i])))\n",
    "    else:\n",
    "        print('Kaggle train Accuracy of %5s: N/A (no training examples)' % (classes[i]))\n",
    "\n",
    "print('\\nKaggle train (Overall): %0d%% (%2d/%2d)' % (\n",
    "    100. * np.sum(class_correct) / np.sum(class_total),\n",
    "    np.sum(class_correct), np.sum(class_total)))\n",
    "print('======================================')\n",
    "\n",
    "############################################################################################################\n",
    "############################################################################################################\n",
    "############################################################################################################\n",
    "############################################################################################################\n",
    "\n",
    "# initialize lists to monitor test loss and accuracy\n",
    "valid_loss = 0.0\n",
    "class_correct = list(0. for i in range(10))\n",
    "class_total = list(0. for i in range(10))\n",
    "\n",
    "model.eval() # prep model for training\n",
    "\n",
    "for data, target in train_valid_loader:\n",
    "    # forward pass: compute predicted outputs by passing inputs to the model\n",
    "    output = model(data.to(device))\n",
    "    # calculate the loss\n",
    "    loss = criterion(output, target.to(device))\n",
    "    # update test loss \n",
    "    valid_loss += loss.item()*data.size(0)\n",
    "    # convert output probabilities to predicted class\n",
    "    _, pred = torch.max(output, 1)\n",
    "    # compare predictions to true label\n",
    "    correct = np.squeeze(pred.eq(target.to(device).data.view_as(pred)))\n",
    "    # calculate test accuracy for each object class\n",
    "    for i in range(64):\n",
    "        label = target.data[i]\n",
    "        class_correct[label] += correct[i].item()\n",
    "        class_total[label] += 1\n",
    "\n",
    "# calculate and print avg test loss\n",
    "valid_loss = valid_loss/len(train_valid_loader.sampler)\n",
    "print('Test Loss: {:.6f}\\n'.format(valid_loss))\n",
    "\n",
    "for i in range(10):\n",
    "    if class_total[i] > 0:\n",
    "        print('Train Accuracy of %5s: %2d%% (%2d/%2d)' % (\n",
    "            str(i), 100 * class_correct[i] / class_total[i],\n",
    "            np.sum(class_correct[i]), np.sum(class_total[i])))\n",
    "    else:\n",
    "        print('Train Accuracy of %5s: N/A (no training examples)' % (classes[i]))\n",
    "\n",
    "print('\\nTrain Accuracy (Overall): %0d%% (%2d/%2d)' % (\n",
    "    100. * np.sum(class_correct) / np.sum(class_total),\n",
    "    np.sum(class_correct), np.sum(class_total)))\n",
    "\n",
    "print('=====================================')\n",
    "\n",
    "############################################################################################################\n",
    "############################################################################################################\n",
    "############################################################################################################\n",
    "############################################################################################################\n",
    "\n",
    "\n",
    "# initialize lists to monitor test loss and accuracy\n",
    "valid_loss = 0.0\n",
    "class_correct = list(0. for i in range(10))\n",
    "class_total = list(0. for i in range(10))\n",
    "\n",
    "model.eval() # prep model for training\n",
    "\n",
    "for data, target in test_valid_loader:\n",
    "    # forward pass: compute predicted outputs by passing inputs to the model\n",
    "    output = model(data.to(device))\n",
    "    # calculate the loss\n",
    "    loss = criterion(output, target.to(device))\n",
    "    # update test loss \n",
    "    valid_loss += loss.item()*data.size(0)\n",
    "    # convert output probabilities to predicted class\n",
    "    _, pred = torch.max(output, 1)\n",
    "    # compare predictions to true label\n",
    "    correct = np.squeeze(pred.eq(target.to(device).data.view_as(pred)))\n",
    "    # calculate test accuracy for each object class\n",
    "    for i in range(64):\n",
    "        label = target.data[i]\n",
    "        class_correct[label] += correct[i].item()\n",
    "        class_total[label] += 1\n",
    "\n",
    "# calculate and print avg test loss\n",
    "valid_loss = valid_loss/len(test_valid_loader.sampler)\n",
    "print('Test Loss: {:.6f}\\n'.format(valid_loss))\n",
    "\n",
    "for i in range(10):\n",
    "    if class_total[i] > 0:\n",
    "        print('Test Accuracy of %5s: %2d%% (%2d/%2d)' % (\n",
    "            str(i), 100 * class_correct[i] / class_total[i],\n",
    "            np.sum(class_correct[i]), np.sum(class_total[i])))\n",
    "    else:\n",
    "        print('Test Accuracy of %5s: N/A (no training examples)' % (classes[i]))\n",
    "\n",
    "print('\\nTest Accuracy (Overall): %0d%% (%2d/%2d)' % (\n",
    "    100. * np.sum(class_correct) / np.sum(class_total),\n",
    "    np.sum(class_correct), np.sum(class_total)))"
   ]
  },
  {
   "cell_type": "code",
   "execution_count": 64,
   "id": "234fa885",
   "metadata": {},
   "outputs": [],
   "source": [
    "def view_classify(img, ps, version=\"MNIST\"):\n",
    "    ''' Function for viewing an image and it's predicted classes.\n",
    "    '''\n",
    "    ps = ps.data.numpy().squeeze()\n",
    "\n",
    "    fig, (ax1, ax2) = plt.subplots(figsize=(6,9), ncols=2)\n",
    "    ax1.imshow(img.resize_(1, 28, 28).numpy().squeeze())\n",
    "    ax1.axis('off')\n",
    "    ax2.barh(np.arange(10), ps)\n",
    "    ax2.set_aspect(0.1)\n",
    "    ax2.set_yticks(np.arange(10))\n",
    "#     if version == \"MNIST\":\n",
    "#         ax2.set_yticklabels(np.arange(10))\n",
    "#     elif version == \"Fashion\":\n",
    "#         ax2.set_yticklabels(['T-shirt/top',\n",
    "#                             'Trouser',\n",
    "#                             'Pullover',\n",
    "#                             'Dress',\n",
    "#                             'Coat',\n",
    "#                             'Sandal',\n",
    "#                             'Shirt',\n",
    "#                             'Sneaker',\n",
    "#                             'Bag',\n",
    "#                             'Ankle Boot'], size='small');\n",
    "#     ax2.set_title('Class Probability')\n",
    "    ax2.set_xlim(0, 1.1)\n",
    "\n",
    "    plt.tight_layout()"
   ]
  },
  {
   "cell_type": "code",
   "execution_count": 71,
   "id": "98b2c2e5",
   "metadata": {},
   "outputs": [
    {
     "name": "stdout",
     "output_type": "stream",
     "text": [
      "Predicted Digit = 1\n"
     ]
    },
    {
     "data": {
      "image/png": "[encoded data removed]",
      "text/plain": [
       "<Figure size 432x648 with 2 Axes>"
      ]
     },
     "metadata": {
      "needs_background": "light"
     },
     "output_type": "display_data"
    }
   ],
   "source": [
    "images, labels = next(iter1)\n",
    "\n",
    "img = images[0].view(1, 784)\n",
    "# Turn off gradients to speed up this part\n",
    "with torch.no_grad():\n",
    "    logps = model(img.cuda())\n",
    "\n",
    "# Output of the network are log-probabilities, need to take exponential for probabilities\n",
    "ps = torch.exp(logps).cpu()\n",
    "probab = list(ps.cpu().numpy()[0])\n",
    "print(\"Predicted Digit =\", probab.index(max(probab)))\n",
    "view_classify(img.view(1, 28, 28), ps)"
   ]
  },
  {
   "cell_type": "code",
   "execution_count": 42,
   "id": "dcddd051",
   "metadata": {},
   "outputs": [
    {
     "data": {
      "text/plain": [
       "(28000, 784)"
      ]
     },
     "execution_count": 42,
     "metadata": {},
     "output_type": "execute_result"
    }
   ],
   "source": [
    "submission = pd.read_csv('C:/datasets/digit-recognizer/test.csv').values; submission.shape"
   ]
  },
  {
   "cell_type": "code",
   "execution_count": 43,
   "id": "e385ca5a",
   "metadata": {},
   "outputs": [],
   "source": [
    "submission = scaler.transform(submission)"
   ]
  },
  {
   "cell_type": "code",
   "execution_count": 44,
   "id": "ddbb756f",
   "metadata": {},
   "outputs": [],
   "source": [
    "submission = torch.tensor(submission, dtype=torch.float32).view(28000,1,28,28)"
   ]
  },
  {
   "cell_type": "code",
   "execution_count": 45,
   "id": "df89c6b6",
   "metadata": {},
   "outputs": [
    {
     "data": {
      "text/plain": [
       "torch.Size([28000, 1, 28, 28])"
      ]
     },
     "execution_count": 45,
     "metadata": {},
     "output_type": "execute_result"
    }
   ],
   "source": [
    "submission.shape"
   ]
  },
  {
   "cell_type": "code",
   "execution_count": 53,
   "id": "7fcb00ea",
   "metadata": {},
   "outputs": [
    {
     "data": {
      "text/html": [
       "<div>\n",
       "<style scoped>\n",
       "    .dataframe tbody tr th:only-of-type {\n",
       "        vertical-align: middle;\n",
       "    }\n",
       "\n",
       "    .dataframe tbody tr th {\n",
       "        vertical-align: top;\n",
       "    }\n",
       "\n",
       "    .dataframe thead th {\n",
       "        text-align: right;\n",
       "    }\n",
       "</style>\n",
       "<table border=\"1\" class=\"dataframe\">\n",
       "  <thead>\n",
       "    <tr style=\"text-align: right;\">\n",
       "      <th></th>\n",
       "      <th>output</th>\n",
       "    </tr>\n",
       "  </thead>\n",
       "  <tbody>\n",
       "    <tr>\n",
       "      <th>0</th>\n",
       "      <td>2</td>\n",
       "    </tr>\n",
       "    <tr>\n",
       "      <th>1</th>\n",
       "      <td>0</td>\n",
       "    </tr>\n",
       "    <tr>\n",
       "      <th>2</th>\n",
       "      <td>9</td>\n",
       "    </tr>\n",
       "    <tr>\n",
       "      <th>3</th>\n",
       "      <td>0</td>\n",
       "    </tr>\n",
       "    <tr>\n",
       "      <th>4</th>\n",
       "      <td>3</td>\n",
       "    </tr>\n",
       "    <tr>\n",
       "      <th>...</th>\n",
       "      <td>...</td>\n",
       "    </tr>\n",
       "    <tr>\n",
       "      <th>6995</th>\n",
       "      <td>2</td>\n",
       "    </tr>\n",
       "    <tr>\n",
       "      <th>6996</th>\n",
       "      <td>0</td>\n",
       "    </tr>\n",
       "    <tr>\n",
       "      <th>6997</th>\n",
       "      <td>4</td>\n",
       "    </tr>\n",
       "    <tr>\n",
       "      <th>6998</th>\n",
       "      <td>4</td>\n",
       "    </tr>\n",
       "    <tr>\n",
       "      <th>6999</th>\n",
       "      <td>3</td>\n",
       "    </tr>\n",
       "  </tbody>\n",
       "</table>\n",
       "<p>7000 rows × 1 columns</p>\n",
       "</div>"
      ],
      "text/plain": [
       "      output\n",
       "0          2\n",
       "1          0\n",
       "2          9\n",
       "3          0\n",
       "4          3\n",
       "...      ...\n",
       "6995       2\n",
       "6996       0\n",
       "6997       4\n",
       "6998       4\n",
       "6999       3\n",
       "\n",
       "[7000 rows x 1 columns]"
      ]
     },
     "execution_count": 53,
     "metadata": {},
     "output_type": "execute_result"
    }
   ],
   "source": [
    "values1, preds1 = torch.topk(model(submission[:7000].to(device)), 1)\n",
    "# preds1 = pd.DataFrame(preds1.cpu()).rename(columns={0:'output'})\n",
    "# preds1.to_csv('C:/datasets/digit-recognizer/outputs/preds1.csv'); preds1"
   ]
  },
  {
   "cell_type": "code",
   "execution_count": 54,
   "id": "613ceeeb",
   "metadata": {},
   "outputs": [
    {
     "data": {
      "text/html": [
       "<div>\n",
       "<style scoped>\n",
       "    .dataframe tbody tr th:only-of-type {\n",
       "        vertical-align: middle;\n",
       "    }\n",
       "\n",
       "    .dataframe tbody tr th {\n",
       "        vertical-align: top;\n",
       "    }\n",
       "\n",
       "    .dataframe thead th {\n",
       "        text-align: right;\n",
       "    }\n",
       "</style>\n",
       "<table border=\"1\" class=\"dataframe\">\n",
       "  <thead>\n",
       "    <tr style=\"text-align: right;\">\n",
       "      <th></th>\n",
       "      <th>output</th>\n",
       "    </tr>\n",
       "  </thead>\n",
       "  <tbody>\n",
       "    <tr>\n",
       "      <th>0</th>\n",
       "      <td>8</td>\n",
       "    </tr>\n",
       "    <tr>\n",
       "      <th>1</th>\n",
       "      <td>1</td>\n",
       "    </tr>\n",
       "    <tr>\n",
       "      <th>2</th>\n",
       "      <td>7</td>\n",
       "    </tr>\n",
       "    <tr>\n",
       "      <th>3</th>\n",
       "      <td>6</td>\n",
       "    </tr>\n",
       "    <tr>\n",
       "      <th>4</th>\n",
       "      <td>5</td>\n",
       "    </tr>\n",
       "    <tr>\n",
       "      <th>...</th>\n",
       "      <td>...</td>\n",
       "    </tr>\n",
       "    <tr>\n",
       "      <th>6995</th>\n",
       "      <td>9</td>\n",
       "    </tr>\n",
       "    <tr>\n",
       "      <th>6996</th>\n",
       "      <td>3</td>\n",
       "    </tr>\n",
       "    <tr>\n",
       "      <th>6997</th>\n",
       "      <td>5</td>\n",
       "    </tr>\n",
       "    <tr>\n",
       "      <th>6998</th>\n",
       "      <td>4</td>\n",
       "    </tr>\n",
       "    <tr>\n",
       "      <th>6999</th>\n",
       "      <td>0</td>\n",
       "    </tr>\n",
       "  </tbody>\n",
       "</table>\n",
       "<p>7000 rows × 1 columns</p>\n",
       "</div>"
      ],
      "text/plain": [
       "      output\n",
       "0          8\n",
       "1          1\n",
       "2          7\n",
       "3          6\n",
       "4          5\n",
       "...      ...\n",
       "6995       9\n",
       "6996       3\n",
       "6997       5\n",
       "6998       4\n",
       "6999       0\n",
       "\n",
       "[7000 rows x 1 columns]"
      ]
     },
     "execution_count": 54,
     "metadata": {},
     "output_type": "execute_result"
    }
   ],
   "source": [
    "values2, preds2 = torch.topk(model(submission[7000:14000].to(device)), 1)\n",
    "# preds2 = pd.DataFrame(preds2.cpu()).rename(columns={0:'output'})\n",
    "# preds2.to_csv('C:/datasets/digit-recognizer/outputs/preds2.csv'); preds2"
   ]
  },
  {
   "cell_type": "code",
   "execution_count": 87,
   "id": "0ad9b049",
   "metadata": {},
   "outputs": [
    {
     "data": {
      "text/html": [
       "<div>\n",
       "<style scoped>\n",
       "    .dataframe tbody tr th:only-of-type {\n",
       "        vertical-align: middle;\n",
       "    }\n",
       "\n",
       "    .dataframe tbody tr th {\n",
       "        vertical-align: top;\n",
       "    }\n",
       "\n",
       "    .dataframe thead th {\n",
       "        text-align: right;\n",
       "    }\n",
       "</style>\n",
       "<table border=\"1\" class=\"dataframe\">\n",
       "  <thead>\n",
       "    <tr style=\"text-align: right;\">\n",
       "      <th></th>\n",
       "      <th>output</th>\n",
       "    </tr>\n",
       "  </thead>\n",
       "  <tbody>\n",
       "    <tr>\n",
       "      <th>0</th>\n",
       "      <td>3</td>\n",
       "    </tr>\n",
       "    <tr>\n",
       "      <th>1</th>\n",
       "      <td>4</td>\n",
       "    </tr>\n",
       "    <tr>\n",
       "      <th>2</th>\n",
       "      <td>3</td>\n",
       "    </tr>\n",
       "    <tr>\n",
       "      <th>3</th>\n",
       "      <td>6</td>\n",
       "    </tr>\n",
       "    <tr>\n",
       "      <th>4</th>\n",
       "      <td>7</td>\n",
       "    </tr>\n",
       "    <tr>\n",
       "      <th>...</th>\n",
       "      <td>...</td>\n",
       "    </tr>\n",
       "    <tr>\n",
       "      <th>6995</th>\n",
       "      <td>6</td>\n",
       "    </tr>\n",
       "    <tr>\n",
       "      <th>6996</th>\n",
       "      <td>1</td>\n",
       "    </tr>\n",
       "    <tr>\n",
       "      <th>6997</th>\n",
       "      <td>4</td>\n",
       "    </tr>\n",
       "    <tr>\n",
       "      <th>6998</th>\n",
       "      <td>2</td>\n",
       "    </tr>\n",
       "    <tr>\n",
       "      <th>6999</th>\n",
       "      <td>6</td>\n",
       "    </tr>\n",
       "  </tbody>\n",
       "</table>\n",
       "<p>7000 rows × 1 columns</p>\n",
       "</div>"
      ],
      "text/plain": [
       "      output\n",
       "0          3\n",
       "1          4\n",
       "2          3\n",
       "3          6\n",
       "4          7\n",
       "...      ...\n",
       "6995       6\n",
       "6996       1\n",
       "6997       4\n",
       "6998       2\n",
       "6999       6\n",
       "\n",
       "[7000 rows x 1 columns]"
      ]
     },
     "execution_count": 87,
     "metadata": {},
     "output_type": "execute_result"
    }
   ],
   "source": [
    "values3, preds3 = torch.topk(model(submission[14000:21000].to(device)), 1)\n",
    "# preds3 = pd.DataFrame(preds3.cpu()).rename(columns={0:'output'})\n",
    "# preds3.to_csv('C:/datasets/digit-recognizer/outputs/preds3.csv'); preds3"
   ]
  },
  {
   "cell_type": "code",
   "execution_count": 88,
   "id": "057583ab",
   "metadata": {},
   "outputs": [
    {
     "data": {
      "text/html": [
       "<div>\n",
       "<style scoped>\n",
       "    .dataframe tbody tr th:only-of-type {\n",
       "        vertical-align: middle;\n",
       "    }\n",
       "\n",
       "    .dataframe tbody tr th {\n",
       "        vertical-align: top;\n",
       "    }\n",
       "\n",
       "    .dataframe thead th {\n",
       "        text-align: right;\n",
       "    }\n",
       "</style>\n",
       "<table border=\"1\" class=\"dataframe\">\n",
       "  <thead>\n",
       "    <tr style=\"text-align: right;\">\n",
       "      <th></th>\n",
       "      <th>output</th>\n",
       "    </tr>\n",
       "  </thead>\n",
       "  <tbody>\n",
       "    <tr>\n",
       "      <th>0</th>\n",
       "      <td>7</td>\n",
       "    </tr>\n",
       "    <tr>\n",
       "      <th>1</th>\n",
       "      <td>5</td>\n",
       "    </tr>\n",
       "    <tr>\n",
       "      <th>2</th>\n",
       "      <td>5</td>\n",
       "    </tr>\n",
       "    <tr>\n",
       "      <th>3</th>\n",
       "      <td>4</td>\n",
       "    </tr>\n",
       "    <tr>\n",
       "      <th>4</th>\n",
       "      <td>2</td>\n",
       "    </tr>\n",
       "    <tr>\n",
       "      <th>...</th>\n",
       "      <td>...</td>\n",
       "    </tr>\n",
       "    <tr>\n",
       "      <th>6995</th>\n",
       "      <td>9</td>\n",
       "    </tr>\n",
       "    <tr>\n",
       "      <th>6996</th>\n",
       "      <td>7</td>\n",
       "    </tr>\n",
       "    <tr>\n",
       "      <th>6997</th>\n",
       "      <td>3</td>\n",
       "    </tr>\n",
       "    <tr>\n",
       "      <th>6998</th>\n",
       "      <td>9</td>\n",
       "    </tr>\n",
       "    <tr>\n",
       "      <th>6999</th>\n",
       "      <td>2</td>\n",
       "    </tr>\n",
       "  </tbody>\n",
       "</table>\n",
       "<p>7000 rows × 1 columns</p>\n",
       "</div>"
      ],
      "text/plain": [
       "      output\n",
       "0          7\n",
       "1          5\n",
       "2          5\n",
       "3          4\n",
       "4          2\n",
       "...      ...\n",
       "6995       9\n",
       "6996       7\n",
       "6997       3\n",
       "6998       9\n",
       "6999       2\n",
       "\n",
       "[7000 rows x 1 columns]"
      ]
     },
     "execution_count": 88,
     "metadata": {},
     "output_type": "execute_result"
    }
   ],
   "source": [
    "values4, preds4 = torch.topk(model(submission[21000:28000].to(device)), 1)\n",
    "# preds4 = pd.DataFrame(preds4.cpu()).rename(columns={0:'output'})\n",
    "# preds4.to_csv('C:/datasets/digit-recognizer/outputs/preds4.csv'); preds4"
   ]
  },
  {
   "cell_type": "code",
   "execution_count": 48,
   "id": "8ef8f56d",
   "metadata": {},
   "outputs": [],
   "source": [
    "preds1 = pd.read_csv('C:/datasets/digit-recognizer/outputs/preds1.csv').drop('Unnamed: 0',axis=1); \n",
    "preds2 = pd.read_csv('C:/datasets/digit-recognizer/outputs/preds2.csv').drop('Unnamed: 0',axis=1); \n",
    "preds3 = pd.read_csv('C:/datasets/digit-recognizer/outputs/preds3.csv').drop('Unnamed: 0',axis=1); \n",
    "preds4 = pd.read_csv('C:/datasets/digit-recognizer/outputs/preds4.csv').drop('Unnamed: 0',axis=1); "
   ]
  },
  {
   "cell_type": "code",
   "execution_count": 53,
   "id": "c5e04921",
   "metadata": {},
   "outputs": [
    {
     "data": {
      "text/plain": [
       "0       2\n",
       "1       0\n",
       "2       9\n",
       "3       0\n",
       "4       3\n",
       "       ..\n",
       "6995    9\n",
       "6996    3\n",
       "6997    5\n",
       "6998    4\n",
       "6999    0\n",
       "Name: output, Length: 14000, dtype: int64"
      ]
     },
     "execution_count": 53,
     "metadata": {},
     "output_type": "execute_result"
    }
   ],
   "source": [
    "df1 = pd.concat([preds1['output'], preds2['output']], axis=0); df1"
   ]
  },
  {
   "cell_type": "code",
   "execution_count": 54,
   "id": "92e8ceaa",
   "metadata": {},
   "outputs": [
    {
     "data": {
      "text/plain": [
       "0       3\n",
       "1       4\n",
       "2       3\n",
       "3       6\n",
       "4       7\n",
       "       ..\n",
       "6995    9\n",
       "6996    7\n",
       "6997    3\n",
       "6998    9\n",
       "6999    2\n",
       "Name: output, Length: 14000, dtype: int64"
      ]
     },
     "execution_count": 54,
     "metadata": {},
     "output_type": "execute_result"
    }
   ],
   "source": [
    "df2 = pd.concat([preds3['output'], preds4['output']], axis=0); df2"
   ]
  },
  {
   "cell_type": "code",
   "execution_count": null,
   "id": "f7bf2748",
   "metadata": {},
   "outputs": [],
   "source": [
    "df = pd.concat([df1, df2], axis=0); df"
   ]
  },
  {
   "cell_type": "code",
   "execution_count": 62,
   "id": "bcca76b0",
   "metadata": {},
   "outputs": [
    {
     "data": {
      "text/html": [
       "<div>\n",
       "<style scoped>\n",
       "    .dataframe tbody tr th:only-of-type {\n",
       "        vertical-align: middle;\n",
       "    }\n",
       "\n",
       "    .dataframe tbody tr th {\n",
       "        vertical-align: top;\n",
       "    }\n",
       "\n",
       "    .dataframe thead th {\n",
       "        text-align: right;\n",
       "    }\n",
       "</style>\n",
       "<table border=\"1\" class=\"dataframe\">\n",
       "  <thead>\n",
       "    <tr style=\"text-align: right;\">\n",
       "      <th></th>\n",
       "      <th>output</th>\n",
       "    </tr>\n",
       "  </thead>\n",
       "  <tbody>\n",
       "    <tr>\n",
       "      <th>0</th>\n",
       "      <td>2</td>\n",
       "    </tr>\n",
       "    <tr>\n",
       "      <th>1</th>\n",
       "      <td>0</td>\n",
       "    </tr>\n",
       "    <tr>\n",
       "      <th>2</th>\n",
       "      <td>9</td>\n",
       "    </tr>\n",
       "    <tr>\n",
       "      <th>3</th>\n",
       "      <td>0</td>\n",
       "    </tr>\n",
       "    <tr>\n",
       "      <th>4</th>\n",
       "      <td>3</td>\n",
       "    </tr>\n",
       "    <tr>\n",
       "      <th>...</th>\n",
       "      <td>...</td>\n",
       "    </tr>\n",
       "    <tr>\n",
       "      <th>27995</th>\n",
       "      <td>9</td>\n",
       "    </tr>\n",
       "    <tr>\n",
       "      <th>27996</th>\n",
       "      <td>7</td>\n",
       "    </tr>\n",
       "    <tr>\n",
       "      <th>27997</th>\n",
       "      <td>3</td>\n",
       "    </tr>\n",
       "    <tr>\n",
       "      <th>27998</th>\n",
       "      <td>9</td>\n",
       "    </tr>\n",
       "    <tr>\n",
       "      <th>27999</th>\n",
       "      <td>2</td>\n",
       "    </tr>\n",
       "  </tbody>\n",
       "</table>\n",
       "<p>28000 rows × 1 columns</p>\n",
       "</div>"
      ],
      "text/plain": [
       "       output\n",
       "0           2\n",
       "1           0\n",
       "2           9\n",
       "3           0\n",
       "4           3\n",
       "...       ...\n",
       "27995       9\n",
       "27996       7\n",
       "27997       3\n",
       "27998       9\n",
       "27999       2\n",
       "\n",
       "[28000 rows x 1 columns]"
      ]
     },
     "execution_count": 62,
     "metadata": {},
     "output_type": "execute_result"
    }
   ],
   "source": [
    "df = df.reset_index().drop('index', axis=1); df"
   ]
  },
  {
   "cell_type": "code",
   "execution_count": 63,
   "id": "ea19ff61",
   "metadata": {},
   "outputs": [
    {
     "data": {
      "text/html": [
       "<div>\n",
       "<style scoped>\n",
       "    .dataframe tbody tr th:only-of-type {\n",
       "        vertical-align: middle;\n",
       "    }\n",
       "\n",
       "    .dataframe tbody tr th {\n",
       "        vertical-align: top;\n",
       "    }\n",
       "\n",
       "    .dataframe thead th {\n",
       "        text-align: right;\n",
       "    }\n",
       "</style>\n",
       "<table border=\"1\" class=\"dataframe\">\n",
       "  <thead>\n",
       "    <tr style=\"text-align: right;\">\n",
       "      <th></th>\n",
       "      <th>ImageId</th>\n",
       "      <th>Label</th>\n",
       "    </tr>\n",
       "  </thead>\n",
       "  <tbody>\n",
       "    <tr>\n",
       "      <th>0</th>\n",
       "      <td>1</td>\n",
       "      <td>0</td>\n",
       "    </tr>\n",
       "    <tr>\n",
       "      <th>1</th>\n",
       "      <td>2</td>\n",
       "      <td>0</td>\n",
       "    </tr>\n",
       "    <tr>\n",
       "      <th>2</th>\n",
       "      <td>3</td>\n",
       "      <td>0</td>\n",
       "    </tr>\n",
       "    <tr>\n",
       "      <th>3</th>\n",
       "      <td>4</td>\n",
       "      <td>0</td>\n",
       "    </tr>\n",
       "    <tr>\n",
       "      <th>4</th>\n",
       "      <td>5</td>\n",
       "      <td>0</td>\n",
       "    </tr>\n",
       "    <tr>\n",
       "      <th>...</th>\n",
       "      <td>...</td>\n",
       "      <td>...</td>\n",
       "    </tr>\n",
       "    <tr>\n",
       "      <th>27995</th>\n",
       "      <td>27996</td>\n",
       "      <td>0</td>\n",
       "    </tr>\n",
       "    <tr>\n",
       "      <th>27996</th>\n",
       "      <td>27997</td>\n",
       "      <td>0</td>\n",
       "    </tr>\n",
       "    <tr>\n",
       "      <th>27997</th>\n",
       "      <td>27998</td>\n",
       "      <td>0</td>\n",
       "    </tr>\n",
       "    <tr>\n",
       "      <th>27998</th>\n",
       "      <td>27999</td>\n",
       "      <td>0</td>\n",
       "    </tr>\n",
       "    <tr>\n",
       "      <th>27999</th>\n",
       "      <td>28000</td>\n",
       "      <td>0</td>\n",
       "    </tr>\n",
       "  </tbody>\n",
       "</table>\n",
       "<p>28000 rows × 2 columns</p>\n",
       "</div>"
      ],
      "text/plain": [
       "       ImageId  Label\n",
       "0            1      0\n",
       "1            2      0\n",
       "2            3      0\n",
       "3            4      0\n",
       "4            5      0\n",
       "...        ...    ...\n",
       "27995    27996      0\n",
       "27996    27997      0\n",
       "27997    27998      0\n",
       "27998    27999      0\n",
       "27999    28000      0\n",
       "\n",
       "[28000 rows x 2 columns]"
      ]
     },
     "execution_count": 63,
     "metadata": {},
     "output_type": "execute_result"
    }
   ],
   "source": [
    "sub = pd.read_csv('C:/datasets/digit-recognizer/sample_submission.csv'); sub"
   ]
  },
  {
   "cell_type": "code",
   "execution_count": 64,
   "id": "07c7235c",
   "metadata": {},
   "outputs": [],
   "source": [
    "sub['Label'] = df['output']"
   ]
  },
  {
   "cell_type": "code",
   "execution_count": 65,
   "id": "311fae1d",
   "metadata": {},
   "outputs": [],
   "source": [
    "sub.to_csv('C:/datasets/digit-recognizer/sub_results.csv', index=False)"
   ]
  },
  {
   "cell_type": "code",
   "execution_count": 66,
   "id": "8ff72f70",
   "metadata": {},
   "outputs": [
    {
     "data": {
      "text/html": [
       "<div>\n",
       "<style scoped>\n",
       "    .dataframe tbody tr th:only-of-type {\n",
       "        vertical-align: middle;\n",
       "    }\n",
       "\n",
       "    .dataframe tbody tr th {\n",
       "        vertical-align: top;\n",
       "    }\n",
       "\n",
       "    .dataframe thead th {\n",
       "        text-align: right;\n",
       "    }\n",
       "</style>\n",
       "<table border=\"1\" class=\"dataframe\">\n",
       "  <thead>\n",
       "    <tr style=\"text-align: right;\">\n",
       "      <th></th>\n",
       "      <th>ImageId</th>\n",
       "      <th>Label</th>\n",
       "    </tr>\n",
       "  </thead>\n",
       "  <tbody>\n",
       "    <tr>\n",
       "      <th>0</th>\n",
       "      <td>1</td>\n",
       "      <td>2</td>\n",
       "    </tr>\n",
       "    <tr>\n",
       "      <th>1</th>\n",
       "      <td>2</td>\n",
       "      <td>0</td>\n",
       "    </tr>\n",
       "    <tr>\n",
       "      <th>2</th>\n",
       "      <td>3</td>\n",
       "      <td>9</td>\n",
       "    </tr>\n",
       "    <tr>\n",
       "      <th>3</th>\n",
       "      <td>4</td>\n",
       "      <td>0</td>\n",
       "    </tr>\n",
       "    <tr>\n",
       "      <th>4</th>\n",
       "      <td>5</td>\n",
       "      <td>3</td>\n",
       "    </tr>\n",
       "    <tr>\n",
       "      <th>...</th>\n",
       "      <td>...</td>\n",
       "      <td>...</td>\n",
       "    </tr>\n",
       "    <tr>\n",
       "      <th>27995</th>\n",
       "      <td>27996</td>\n",
       "      <td>9</td>\n",
       "    </tr>\n",
       "    <tr>\n",
       "      <th>27996</th>\n",
       "      <td>27997</td>\n",
       "      <td>7</td>\n",
       "    </tr>\n",
       "    <tr>\n",
       "      <th>27997</th>\n",
       "      <td>27998</td>\n",
       "      <td>3</td>\n",
       "    </tr>\n",
       "    <tr>\n",
       "      <th>27998</th>\n",
       "      <td>27999</td>\n",
       "      <td>9</td>\n",
       "    </tr>\n",
       "    <tr>\n",
       "      <th>27999</th>\n",
       "      <td>28000</td>\n",
       "      <td>2</td>\n",
       "    </tr>\n",
       "  </tbody>\n",
       "</table>\n",
       "<p>28000 rows × 2 columns</p>\n",
       "</div>"
      ],
      "text/plain": [
       "       ImageId  Label\n",
       "0            1      2\n",
       "1            2      0\n",
       "2            3      9\n",
       "3            4      0\n",
       "4            5      3\n",
       "...        ...    ...\n",
       "27995    27996      9\n",
       "27996    27997      7\n",
       "27997    27998      3\n",
       "27998    27999      9\n",
       "27999    28000      2\n",
       "\n",
       "[28000 rows x 2 columns]"
      ]
     },
     "execution_count": 66,
     "metadata": {},
     "output_type": "execute_result"
    }
   ],
   "source": [
    "pd.read_csv('C:/datasets/digit-recognizer/sub_results.csv')"
   ]
  },
  {
   "cell_type": "code",
   "execution_count": null,
   "id": "9dd7a31f",
   "metadata": {},
   "outputs": [],
   "source": []
  },
  {
   "cell_type": "code",
   "execution_count": null,
   "id": "9c58af4c",
   "metadata": {},
   "outputs": [],
   "source": []
  },
  {
   "cell_type": "code",
   "execution_count": null,
   "id": "878cf8ce",
   "metadata": {},
   "outputs": [],
   "source": []
  },
  {
   "cell_type": "code",
   "execution_count": null,
   "id": "d2c1a782",
   "metadata": {},
   "outputs": [],
   "source": []
  }
 ],
 "metadata": {
  "kernelspec": {
   "display_name": "Python 3 (ipykernel)",
   "language": "python",
   "name": "python3"
  },
  "language_info": {
   "codemirror_mode": {
    "name": "ipython",
    "version": 3
   },
   "file_extension": ".py",
   "mimetype": "text/x-python",
   "name": "python",
   "nbconvert_exporter": "python",
   "pygments_lexer": "ipython3",
   "version": "3.9.13"
  }
 },
 "nbformat": 4,
 "nbformat_minor": 5
}
