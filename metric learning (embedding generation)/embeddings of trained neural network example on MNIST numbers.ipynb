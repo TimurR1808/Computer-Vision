{
 "cells": [
  {
   "cell_type": "code",
   "execution_count": 1,
   "id": "84b9c522",
   "metadata": {},
   "outputs": [],
   "source": [
    "import numpy as np\n",
    "import torch\n",
    "import pandas as pd\n",
    "device = torch.device(\"cuda:0\" if torch.cuda.is_available() else \"cpu\")"
   ]
  },
  {
   "cell_type": "code",
   "execution_count": 2,
   "id": "c916ab1e",
   "metadata": {},
   "outputs": [],
   "source": [
    "import seaborn as sns\n",
    "from matplotlib import pyplot as plt\n",
    "%matplotlib inline "
   ]
  },
  {
   "cell_type": "code",
   "execution_count": 3,
   "id": "ffe789f5",
   "metadata": {},
   "outputs": [],
   "source": [
    "kaggle_train = pd.read_csv('C:/datasets/digit-recognizer/train.csv').drop('label',axis=1).values\n",
    "kaggle_labels = pd.read_csv('C:/datasets/digit-recognizer/train.csv')['label'].values"
   ]
  },
  {
   "cell_type": "code",
   "execution_count": 4,
   "id": "03a2e44b",
   "metadata": {},
   "outputs": [
    {
     "data": {
      "text/plain": [
       "dtype('int64')"
      ]
     },
     "execution_count": 4,
     "metadata": {},
     "output_type": "execute_result"
    }
   ],
   "source": [
    "# not normalized images (0-255 pixels)\n",
    "kaggle_train.dtype"
   ]
  },
  {
   "cell_type": "code",
   "execution_count": 5,
   "id": "fea4b3b5",
   "metadata": {},
   "outputs": [
    {
     "data": {
      "text/plain": [
       "dtype('int64')"
      ]
     },
     "execution_count": 5,
     "metadata": {},
     "output_type": "execute_result"
    }
   ],
   "source": [
    "kaggle_labels.dtype"
   ]
  },
  {
   "cell_type": "code",
   "execution_count": 6,
   "id": "73489d2c",
   "metadata": {},
   "outputs": [],
   "source": [
    "from sklearn.preprocessing import MinMaxScaler\n",
    "\n",
    "scaler = MinMaxScaler()\n",
    "kaggle_train = scaler.fit_transform(kaggle_train)"
   ]
  },
  {
   "cell_type": "code",
   "execution_count": 7,
   "id": "eb08ecbf",
   "metadata": {},
   "outputs": [],
   "source": [
    "kaggle_train = torch.tensor(kaggle_train, dtype=torch.float32).view(42000,1,28,28)"
   ]
  },
  {
   "cell_type": "code",
   "execution_count": 8,
   "id": "dfc37066",
   "metadata": {},
   "outputs": [],
   "source": [
    "kaggle_labels = torch.tensor(kaggle_labels, dtype=torch.int64)"
   ]
  },
  {
   "cell_type": "code",
   "execution_count": 9,
   "id": "38fcbd78",
   "metadata": {},
   "outputs": [
    {
     "data": {
      "text/plain": [
       "(torch.float32, torch.int64)"
      ]
     },
     "execution_count": 9,
     "metadata": {},
     "output_type": "execute_result"
    }
   ],
   "source": [
    "kaggle_train.dtype, kaggle_labels.dtype"
   ]
  },
  {
   "cell_type": "code",
   "execution_count": 10,
   "id": "d78c10af",
   "metadata": {},
   "outputs": [],
   "source": [
    "def normalize_dataset(image_dataset):\n",
    "    if str(image_dataset.dtype)[:5] == 'torch' and len(image_dataset.shape) == 4:\n",
    "        for i in range(image_dataset.shape[0]):\n",
    "            new = image_dataset[i][0].flatten()\n",
    "            new = 2*(new/255)-1\n",
    "            image_dataset[i][0] = new.view(28,28) \n",
    "        return image_dataset\n",
    "    else:\n",
    "        raise Exception(\"IMAGE DATASET DOES NOT MEET REQUIREMENTS\")"
   ]
  },
  {
   "cell_type": "code",
   "execution_count": 11,
   "id": "b322f316",
   "metadata": {},
   "outputs": [],
   "source": [
    "# kaggle_train = normalize_dataset(kaggle_train)"
   ]
  },
  {
   "cell_type": "code",
   "execution_count": 12,
   "id": "93768c5b",
   "metadata": {},
   "outputs": [],
   "source": [
    "class KaggleDataset(torch.utils.data.Dataset):\n",
    "    def __init__(self, features, labels):\n",
    "        self.x_train = features\n",
    "        self.y_train = labels\n",
    "        \n",
    "    def __len__(self):\n",
    "        return len(self.y_train)\n",
    "\n",
    "    def __getitem__(self,idx):\n",
    "        return self.x_train[idx],self.y_train[idx]\n"
   ]
  },
  {
   "cell_type": "code",
   "execution_count": 13,
   "id": "307a2552",
   "metadata": {},
   "outputs": [],
   "source": [
    "from torchvision import datasets, transforms\n",
    "\n",
    "train_transforms = transforms.Compose([transforms.RandomRotation(15), \n",
    "                                       transforms.ToTensor()\n",
    "#                                         transforms.Normalize(0.5,0.5)\n",
    "                                       ]) \n",
    "# transforms.RandomRotation(20),\n",
    "# transforms.CenterCrop(28),\n",
    "\n",
    "transform = transforms.Compose([\n",
    "                                    transforms.ToTensor()\n",
    "#                                  transforms.Normalize(0.5,0.5)\n",
    "                               ])\n",
    "\n",
    "kaggle_train = KaggleDataset(kaggle_train, kaggle_labels)\n",
    "\n",
    "train = datasets.MNIST(root='data', train=True,\n",
    "                                   download=True, transform=train_transforms)\n",
    "train_valid = datasets.MNIST(root='data', train=True,\n",
    "                                   download=True, transform=transform)\n",
    "\n",
    "test = datasets.MNIST(root='data', train=False,\n",
    "                                  download=True, transform=train_transforms)\n",
    "\n",
    "test_valid = datasets.MNIST(root='data', train=False,\n",
    "                                  download=True, transform=transform)"
   ]
  },
  {
   "cell_type": "code",
   "execution_count": 14,
   "id": "ecdebbf2",
   "metadata": {},
   "outputs": [],
   "source": [
    "from torch.utils.data.sampler import SubsetRandomSampler\n",
    "\n",
    "valid_size = 0.060952381\n",
    "\n",
    "# obtain training indices that will be used for validation\n",
    "num_kaggle_train = len(kaggle_train)\n",
    "indices = list(range(num_kaggle_train))\n",
    "np.random.shuffle(indices)\n",
    "split = int(np.floor(valid_size * num_kaggle_train))\n",
    "kaggle_train_idx, kaggle_train_valid_idx = indices[split:], indices[:split]\n",
    "\n",
    "# define samplers for obtaining training and validation batches\n",
    "kaggle_train_sampler = SubsetRandomSampler(kaggle_train_idx)\n",
    "kaggle_train_valid_sampler = SubsetRandomSampler(kaggle_train_valid_idx)\n",
    "\n",
    "kaggle_train_loader = torch.utils.data.DataLoader(kaggle_train, batch_size=64,\n",
    "    sampler=kaggle_train_sampler, num_workers=0)\n",
    "kaggle_train_valid_loader = torch.utils.data.DataLoader(kaggle_train, batch_size=64, \n",
    "    sampler=kaggle_train_valid_sampler, num_workers=0)"
   ]
  },
  {
   "cell_type": "code",
   "execution_count": 15,
   "id": "423b39e2",
   "metadata": {},
   "outputs": [],
   "source": [
    "valid_size = 0.064\n",
    "\n",
    "# obtain training indices that will be used for validation\n",
    "num_train = len(train)\n",
    "indices = list(range(num_train))\n",
    "np.random.shuffle(indices)\n",
    "split = int(np.floor(valid_size * num_train))\n",
    "train_idx, train_valid_idx = indices[split:], indices[:split]\n",
    "\n",
    "# define samplers for obtaining training and validation batches\n",
    "train_sampler = SubsetRandomSampler(train_idx)\n",
    "train_valid_sampler = SubsetRandomSampler(train_valid_idx)\n",
    "\n",
    "train_loader = torch.utils.data.DataLoader(train, batch_size=64,\n",
    "    sampler=train_sampler, num_workers=0)\n",
    "train_valid_loader = torch.utils.data.DataLoader(train_valid, batch_size=64, \n",
    "    sampler=train_valid_sampler, num_workers=0)"
   ]
  },
  {
   "cell_type": "code",
   "execution_count": 16,
   "id": "38fe56ec",
   "metadata": {},
   "outputs": [],
   "source": [
    "valid_size = 0.128\n",
    "\n",
    "# obtain training indices that will be used for validation\n",
    "num_test = len(test)\n",
    "indices = list(range(num_test))\n",
    "np.random.shuffle(indices)\n",
    "split = int(np.floor(valid_size * num_test))\n",
    "test_idx, test_valid_idx = indices[split:], indices[:split]\n",
    "\n",
    "# define samplers for obtaining training and validation batches\n",
    "test_sampler = SubsetRandomSampler(test_idx)\n",
    "test_valid_sampler = SubsetRandomSampler(test_valid_idx)\n",
    "\n",
    "test_loader = torch.utils.data.DataLoader(test, batch_size=64,\n",
    "    sampler=test_sampler, num_workers=0)\n",
    "test_valid_loader = torch.utils.data.DataLoader(test_valid, batch_size=64, \n",
    "    sampler=test_valid_sampler, num_workers=0)"
   ]
  },
  {
   "cell_type": "code",
   "execution_count": 17,
   "id": "6b5bb826",
   "metadata": {},
   "outputs": [
    {
     "data": {
      "text/plain": [
       "(39440, 56160, 8720)"
      ]
     },
     "execution_count": 17,
     "metadata": {},
     "output_type": "execute_result"
    }
   ],
   "source": [
    "# for training\n",
    "len(kaggle_train_loader.sampler), len(train_loader.sampler), len(test_loader.sampler)"
   ]
  },
  {
   "cell_type": "code",
   "execution_count": 18,
   "id": "900a489b",
   "metadata": {},
   "outputs": [
    {
     "data": {
      "text/plain": [
       "(2560, 3840, 1280)"
      ]
     },
     "execution_count": 18,
     "metadata": {},
     "output_type": "execute_result"
    }
   ],
   "source": [
    "# for validation\n",
    "len(kaggle_train_valid_loader.sampler), len(train_valid_loader.sampler), len(test_valid_loader.sampler)"
   ]
  },
  {
   "cell_type": "code",
   "execution_count": 19,
   "id": "e9184591",
   "metadata": {},
   "outputs": [],
   "source": [
    "iter1 = iter(kaggle_train_loader)\n",
    "iter2 = iter(train_loader)\n",
    "iter3 = iter(test_loader)"
   ]
  },
  {
   "cell_type": "code",
   "execution_count": 20,
   "id": "0d373f7b",
   "metadata": {},
   "outputs": [],
   "source": [
    "img1, lbl1 = next(iter1)"
   ]
  },
  {
   "cell_type": "code",
   "execution_count": 21,
   "id": "746bf68e",
   "metadata": {},
   "outputs": [
    {
     "data": {
      "text/plain": [
       "tensor([2, 4, 6, 8, 1, 0, 6, 1, 2, 5, 5, 2, 8, 2, 4, 8, 4, 6, 4, 5, 7, 5, 8, 2,\n",
       "        4, 4, 3, 6, 7, 7, 1, 3, 8, 7, 6, 1, 7, 9, 5, 6, 6, 3, 3, 3, 7, 6, 6, 2,\n",
       "        5, 5, 5, 2, 1, 7, 0, 5, 1, 1, 4, 7, 3, 4, 9, 3])"
      ]
     },
     "execution_count": 21,
     "metadata": {},
     "output_type": "execute_result"
    }
   ],
   "source": [
    "lbl1.to(torch.int64)"
   ]
  },
  {
   "cell_type": "code",
   "execution_count": 22,
   "id": "4b9df3c9",
   "metadata": {},
   "outputs": [],
   "source": [
    "img2, lbl2 = next(iter2)"
   ]
  },
  {
   "cell_type": "code",
   "execution_count": 23,
   "id": "e86c24aa",
   "metadata": {},
   "outputs": [
    {
     "data": {
      "text/plain": [
       "tensor([0, 2, 4, 2, 5, 6, 8, 1, 9, 3, 4, 1, 1, 3, 7, 1, 4, 8, 5, 2, 4, 8, 4, 0,\n",
       "        3, 2, 0, 9, 3, 6, 0, 9, 1, 1, 6, 5, 1, 5, 8, 7, 2, 9, 4, 0, 3, 6, 2, 3,\n",
       "        7, 6, 3, 0, 2, 4, 1, 8, 9, 8, 7, 1, 0, 9, 2, 1])"
      ]
     },
     "execution_count": 23,
     "metadata": {},
     "output_type": "execute_result"
    }
   ],
   "source": [
    "lbl2"
   ]
  },
  {
   "cell_type": "code",
   "execution_count": 24,
   "id": "1d5fb4f3",
   "metadata": {},
   "outputs": [],
   "source": [
    "img3, lbl3 = next(iter3)"
   ]
  },
  {
   "cell_type": "code",
   "execution_count": 25,
   "id": "c98a0bf6",
   "metadata": {},
   "outputs": [
    {
     "data": {
      "text/plain": [
       "tensor([5, 2, 9, 6, 0, 8, 2, 8, 1, 6, 6, 3, 1, 4, 9, 6, 1, 2, 9, 1, 6, 0, 2, 7,\n",
       "        0, 7, 6, 3, 3, 0, 7, 1, 0, 5, 7, 0, 8, 4, 9, 4, 8, 1, 4, 3, 1, 8, 0, 3,\n",
       "        4, 4, 9, 8, 5, 9, 4, 1, 3, 7, 4, 0, 8, 6, 8, 2])"
      ]
     },
     "execution_count": 25,
     "metadata": {},
     "output_type": "execute_result"
    }
   ],
   "source": [
    "lbl3"
   ]
  },
  {
   "cell_type": "code",
   "execution_count": 26,
   "id": "07c64c69",
   "metadata": {},
   "outputs": [
    {
     "data": {
      "text/plain": [
       "(tensor(0.), tensor(0.1422), tensor(1.), tensor(0.3146))"
      ]
     },
     "execution_count": 26,
     "metadata": {},
     "output_type": "execute_result"
    }
   ],
   "source": [
    "img1[0].flatten().min(), img1[0].flatten().mean(), img1[0].flatten().max(), img1[0].flatten().std() "
   ]
  },
  {
   "cell_type": "code",
   "execution_count": 27,
   "id": "45e4a002",
   "metadata": {},
   "outputs": [
    {
     "data": {
      "text/plain": [
       "<AxesSubplot:ylabel='Count'>"
      ]
     },
     "execution_count": 27,
     "metadata": {},
     "output_type": "execute_result"
    },
    {
     "data": {
      "image/png": "[encoded data removed]",
      "text/plain": [
       "<Figure size 640x480 with 1 Axes>"
      ]
     },
     "metadata": {},
     "output_type": "display_data"
    }
   ],
   "source": [
    "sns.histplot(img1[0].flatten())"
   ]
  },
  {
   "cell_type": "code",
   "execution_count": 28,
   "id": "48fd2697",
   "metadata": {},
   "outputs": [
    {
     "data": {
      "text/plain": [
       "(tensor(0.), tensor(0.1194), tensor(1.), tensor(0.2943))"
      ]
     },
     "execution_count": 28,
     "metadata": {},
     "output_type": "execute_result"
    }
   ],
   "source": [
    "img2[0].flatten().min(), img2[0].flatten().mean(), img2[0].flatten().max(), img2[0].flatten().std() "
   ]
  },
  {
   "cell_type": "code",
   "execution_count": 29,
   "id": "51fdb3b4",
   "metadata": {},
   "outputs": [
    {
     "data": {
      "text/plain": [
       "<AxesSubplot:ylabel='Count'>"
      ]
     },
     "execution_count": 29,
     "metadata": {},
     "output_type": "execute_result"
    },
    {
     "data": {
      "image/png": "[encoded data removed]",
      "text/plain": [
       "<Figure size 640x480 with 1 Axes>"
      ]
     },
     "metadata": {},
     "output_type": "display_data"
    }
   ],
   "source": [
    "sns.histplot(img2[0].flatten())"
   ]
  },
  {
   "cell_type": "code",
   "execution_count": 30,
   "id": "a6b083de",
   "metadata": {},
   "outputs": [
    {
     "data": {
      "text/plain": [
       "(tensor(0.), tensor(0.1854), tensor(1.), tensor(0.3541))"
      ]
     },
     "execution_count": 30,
     "metadata": {},
     "output_type": "execute_result"
    }
   ],
   "source": [
    "img3[0].flatten().min(), img3[0].flatten().mean(), img3[0].flatten().max(), img3[0].flatten().std() "
   ]
  },
  {
   "cell_type": "code",
   "execution_count": 31,
   "id": "b5ac6f95",
   "metadata": {},
   "outputs": [
    {
     "data": {
      "text/plain": [
       "<AxesSubplot:ylabel='Count'>"
      ]
     },
     "execution_count": 31,
     "metadata": {},
     "output_type": "execute_result"
    },
    {
     "data": {
      "image/png": "[encoded data removed]",
      "text/plain": [
       "<Figure size 640x480 with 1 Axes>"
      ]
     },
     "metadata": {},
     "output_type": "display_data"
    }
   ],
   "source": [
    "sns.histplot(img3[0].flatten())"
   ]
  },
  {
   "cell_type": "code",
   "execution_count": 32,
   "id": "ef6ebdc8",
   "metadata": {},
   "outputs": [
    {
     "name": "stdout",
     "output_type": "stream",
     "text": [
      "tensor(0.) tensor(0.1422) tensor(1.) tensor(0.3146)\n",
      "tensor(0.) tensor(0.1435) tensor(1.) tensor(0.3225)\n",
      "tensor(0.) tensor(0.1528) tensor(1.) tensor(0.3282)\n",
      "tensor(0.) tensor(0.1050) tensor(1.) tensor(0.2779)\n",
      "tensor(0.) tensor(0.1180) tensor(1.) tensor(0.3011)\n",
      "============================\n",
      "mean_mean_of_batch: 0.12817570567131042, mean_std_of_batch: 0.30053800344467163\n"
     ]
    }
   ],
   "source": [
    "mean_mean_of_batch = []\n",
    "mean_std_of_batch = []\n",
    "for i in range(img1.shape[0]):\n",
    "    mean_mean_of_batch.append(img1[i][0].mean())\n",
    "    mean_std_of_batch.append(img1[i][0].std())\n",
    "    if i < 5:\n",
    "        print(img1[i][0].min(), img1[i][0].mean(), img1[i][0].max(), img1[i][0].std())\n",
    "print(\"============================\")\n",
    "print(f\"mean_mean_of_batch: {np.array(mean_mean_of_batch).mean()}, mean_std_of_batch: {np.array(mean_std_of_batch).mean()}\")"
   ]
  },
  {
   "cell_type": "code",
   "execution_count": 33,
   "id": "b2a0df38",
   "metadata": {},
   "outputs": [
    {
     "name": "stdout",
     "output_type": "stream",
     "text": [
      "tensor(0.) tensor(0.1194) tensor(1.) tensor(0.2943)\n",
      "tensor(0.) tensor(0.2007) tensor(1.) tensor(0.3778)\n",
      "tensor(0.) tensor(0.1276) tensor(1.) tensor(0.3090)\n",
      "tensor(0.) tensor(0.1949) tensor(1.) tensor(0.3737)\n",
      "tensor(0.) tensor(0.1099) tensor(1.) tensor(0.2817)\n",
      "============================\n",
      "mean_mean_of_batch: 0.12288665771484375, mean_std_of_batch: 0.29408401250839233\n"
     ]
    }
   ],
   "source": [
    "mean_mean_of_batch = []\n",
    "mean_std_of_batch = []\n",
    "for i in range(img2.shape[0]):\n",
    "    mean_mean_of_batch.append(img2[i][0].mean())\n",
    "    mean_std_of_batch.append(img2[i][0].std())\n",
    "    if i < 5:\n",
    "        print(img2[i][0].min(), img2[i][0].mean(), img2[i][0].max(), img2[i][0].std())\n",
    "print(\"============================\")\n",
    "print(f\"mean_mean_of_batch: {np.array(mean_mean_of_batch).mean()}, mean_std_of_batch: {np.array(mean_std_of_batch).mean()}\")"
   ]
  },
  {
   "cell_type": "code",
   "execution_count": 34,
   "id": "a50cf70c",
   "metadata": {},
   "outputs": [
    {
     "name": "stdout",
     "output_type": "stream",
     "text": [
      "tensor(0.) tensor(0.1854) tensor(1.) tensor(0.3541)\n",
      "tensor(0.) tensor(0.1735) tensor(1.) tensor(0.3574)\n",
      "tensor(0.) tensor(0.0931) tensor(1.) tensor(0.2550)\n",
      "tensor(0.) tensor(0.1964) tensor(1.) tensor(0.3589)\n",
      "tensor(0.) tensor(0.1065) tensor(0.9961) tensor(0.2641)\n",
      "============================\n",
      "mean_mean_of_batch: 0.14117412269115448, mean_std_of_batch: 0.3122362494468689\n"
     ]
    }
   ],
   "source": [
    "mean_mean_of_batch = []\n",
    "mean_std_of_batch = []\n",
    "for i in range(img3.shape[0]):\n",
    "    mean_mean_of_batch.append(img3[i][0].mean())\n",
    "    mean_std_of_batch.append(img3[i][0].std())\n",
    "    if i < 5:\n",
    "        print(img3[i][0].min(), img3[i][0].mean(), img3[i][0].max(), img3[i][0].std())\n",
    "print(\"============================\")\n",
    "print(f\"mean_mean_of_batch: {np.array(mean_mean_of_batch).mean()}, mean_std_of_batch: {np.array(mean_std_of_batch).mean()}\")"
   ]
  },
  {
   "cell_type": "code",
   "execution_count": 35,
   "id": "bb63061c",
   "metadata": {},
   "outputs": [
    {
     "data": {
      "image/png": "[encoded data removed]",
      "text/plain": [
       "<Figure size 200x200 with 1 Axes>"
      ]
     },
     "metadata": {},
     "output_type": "display_data"
    },
    {
     "data": {
      "image/png": "[encoded data removed]",
      "text/plain": [
       "<Figure size 200x200 with 1 Axes>"
      ]
     },
     "metadata": {},
     "output_type": "display_data"
    },
    {
     "data": {
      "image/png": "[encoded data removed]",
      "text/plain": [
       "<Figure size 200x200 with 1 Axes>"
      ]
     },
     "metadata": {},
     "output_type": "display_data"
    }
   ],
   "source": [
    "# show 3 random images of data set\n",
    "for i in (np.random.rand(3)*100).astype('int'):\n",
    "    plt.figure(figsize=(2, 2))\n",
    "    plt.imshow(kaggle_train_loader.dataset.x_train[i].squeeze(), interpolation='nearest')\n",
    "    plt.show()"
   ]
  },
  {
   "cell_type": "code",
   "execution_count": 36,
   "id": "4d0b55de",
   "metadata": {},
   "outputs": [
    {
     "name": "stdout",
     "output_type": "stream",
     "text": [
      "Net(\n",
      "  (conv1): Conv2d(1, 20, kernel_size=(2, 2), stride=(1, 1), padding=(1, 1))\n",
      "  (norm1): BatchNorm2d(20, eps=1e-05, momentum=0.1, affine=True, track_running_stats=True)\n",
      "  (conv2): Conv2d(20, 40, kernel_size=(2, 2), stride=(1, 1), padding=(1, 1))\n",
      "  (norm2): BatchNorm2d(40, eps=1e-05, momentum=0.1, affine=True, track_running_stats=True)\n",
      "  (conv3): Conv2d(40, 60, kernel_size=(2, 2), stride=(1, 1), padding=(1, 1))\n",
      "  (norm3): BatchNorm2d(60, eps=1e-05, momentum=0.1, affine=True, track_running_stats=True)\n",
      "  (pool): MaxPool2d(kernel_size=2, stride=2, padding=0, dilation=1, ceil_mode=False)\n",
      "  (fc1): Linear(in_features=960, out_features=512, bias=True)\n",
      "  (fc2): Linear(in_features=512, out_features=256, bias=True)\n",
      "  (fc3): Linear(in_features=256, out_features=128, bias=True)\n",
      "  (fc4): Linear(in_features=128, out_features=10, bias=True)\n",
      "  (dropout): Dropout(p=0.2, inplace=False)\n",
      ")\n"
     ]
    }
   ],
   "source": [
    "import torch.nn as nn\n",
    "import torch.nn as nn\n",
    "import torch.nn.functional as F\n",
    "\n",
    "# define the CNN architecture\n",
    "class Net(nn.Module):\n",
    "    def __init__(self):\n",
    "        super(Net, self).__init__()\n",
    "\n",
    "        self.conv1 = nn.Conv2d(1, 20, 2, padding=1)\n",
    "        self.norm1 = nn.BatchNorm2d(20)\n",
    "\n",
    "        self.conv2 = nn.Conv2d(20, 40, 2, padding=1)\n",
    "        self.norm2 = nn.BatchNorm2d(40)\n",
    "        \n",
    "        self.conv3 = nn.Conv2d(40, 60, 2, padding=1)\n",
    "        self.norm3 = nn.BatchNorm2d(60)\n",
    "\n",
    "        # max pooling layer\n",
    "        self.pool = nn.MaxPool2d(2, 2)\n",
    "\n",
    "        self.fc1 = nn.Linear(60 * 4 * 4, 512)\n",
    "        self.fc2 = nn.Linear(512, 256)\n",
    "        self.fc3 = nn.Linear(256, 128)\n",
    "        self.fc4 = nn.Linear(128, 10)\n",
    "        \n",
    "        # dropout layer (p=0.25)\n",
    "        self.dropout = nn.Dropout(0.2)\n",
    "\n",
    "    def forward(self, x):\n",
    "        # add sequence of convolutional and max pooling layers\n",
    "        x = x.view(x.shape[0],1,28,28)\n",
    "        \n",
    "        x = self.norm1(self.pool(F.relu(self.conv1(x))))\n",
    "        \n",
    "        x = self.dropout(x)\n",
    "        \n",
    "        x = self.norm2(self.pool(F.relu(self.conv2(x))))\n",
    "        \n",
    "        x = self.dropout(x)\n",
    "        \n",
    "        x = self.norm3(self.pool(F.relu(self.conv3(x))))\n",
    "        \n",
    "\n",
    "        x = self.dropout(x)\n",
    "\n",
    "        # flatten image input\n",
    "        x = x.view(-1, 60 * 4 * 4)\n",
    "\n",
    "        x = F.relu(self.fc1(x))\n",
    "\n",
    "        x = self.dropout(x)\n",
    "\n",
    "        x = F.relu(self.fc2(x))\n",
    "\n",
    "        x = self.dropout(x)\n",
    "        \n",
    "        x = F.relu(self.fc3(x))\n",
    "        \n",
    "        embedding = x.clone()\n",
    "\n",
    "        x = self.dropout(x)\n",
    "\n",
    "        x = F.log_softmax(self.fc4(x), dim=1)\n",
    "\n",
    "        return x, embedding\n",
    "\n",
    "# create a complete CNN\n",
    "model = Net().to(device)\n",
    "print(model)\n"
   ]
  },
  {
   "cell_type": "code",
   "execution_count": 37,
   "id": "04c8d61a",
   "metadata": {},
   "outputs": [
    {
     "data": {
      "text/plain": [
       "<All keys matched successfully>"
      ]
     },
     "execution_count": 37,
     "metadata": {},
     "output_type": "execute_result"
    }
   ],
   "source": [
    "model.load_state_dict(torch.load('MNIST-CNN.pt'))"
   ]
  },
  {
   "cell_type": "code",
   "execution_count": 38,
   "id": "f896b774",
   "metadata": {},
   "outputs": [
    {
     "name": "stdout",
     "output_type": "stream",
     "text": [
      "Kaggle train Accuracy of     0: 100% (259/259)\n",
      "Kaggle train Accuracy of     1: 99% (281/283)\n",
      "Kaggle train Accuracy of     2: 100% (245/245)\n",
      "Kaggle train Accuracy of     3: 100% (283/283)\n",
      "Kaggle train Accuracy of     4: 100% (256/256)\n",
      "Kaggle train Accuracy of     5: 100% (245/245)\n",
      "Kaggle train Accuracy of     6: 100% (243/243)\n",
      "Kaggle train Accuracy of     7: 100% (255/255)\n",
      "Kaggle train Accuracy of     8: 99% (261/262)\n",
      "Kaggle train Accuracy of     9: 100% (229/229)\n",
      "\n",
      "Kaggle train (Overall): 99% (2557/2560)\n",
      "======================================\n",
      "Train Accuracy of     0: 99% (389/391)\n",
      "Train Accuracy of     1: 100% (428/428)\n",
      "Train Accuracy of     2: 100% (388/388)\n",
      "Train Accuracy of     3: 99% (384/385)\n",
      "Train Accuracy of     4: 100% (372/372)\n",
      "Train Accuracy of     5: 99% (343/345)\n",
      "Train Accuracy of     6: 100% (347/347)\n",
      "Train Accuracy of     7: 99% (417/421)\n",
      "Train Accuracy of     8: 100% (376/376)\n",
      "Train Accuracy of     9: 99% (386/387)\n",
      "\n",
      "Train Accuracy (Overall): 99% (3830/3840)\n",
      "=====================================\n",
      "Test Accuracy of     0: 100% (134/134)\n",
      "Test Accuracy of     1: 100% (142/142)\n",
      "Test Accuracy of     2: 100% (120/120)\n",
      "Test Accuracy of     3: 100% (133/133)\n",
      "Test Accuracy of     4: 100% (111/111)\n",
      "Test Accuracy of     5: 100% (117/117)\n",
      "Test Accuracy of     6: 100% (116/116)\n",
      "Test Accuracy of     7: 100% (133/133)\n",
      "Test Accuracy of     8: 100% (133/133)\n",
      "Test Accuracy of     9: 100% (141/141)\n",
      "\n",
      "Test Accuracy (Overall): 100% (1280/1280)\n"
     ]
    }
   ],
   "source": [
    "# initialize lists to monitor test loss and accuracy\n",
    "class_correct = list(0. for i in range(10))\n",
    "class_total = list(0. for i in range(10))\n",
    "\n",
    "model.eval() # prep model for training\n",
    "\n",
    "for data, target in kaggle_train_valid_loader:\n",
    "    target = torch.tensor(np.array(target)).to(torch.int64)\n",
    "    # forward pass: compute predicted outputs by passing inputs to the model\n",
    "    output = model(data.to(device))[0]\n",
    "    # convert output probabilities to predicted class\n",
    "    _, pred = torch.max(output, 1)\n",
    "    # compare predictions to true label\n",
    "    correct = np.squeeze(pred.eq(target.to(device).data.view_as(pred)))\n",
    "    # calculate test accuracy for each object class\n",
    "    for i in range(64):\n",
    "        label = target.data[i]\n",
    "        class_correct[label] += correct[i].item()\n",
    "        class_total[label] += 1\n",
    "\n",
    "for i in range(10):\n",
    "    if class_total[i] > 0:\n",
    "        print('Kaggle train Accuracy of %5s: %2d%% (%2d/%2d)' % (\n",
    "            str(i), 100 * class_correct[i] / class_total[i],\n",
    "            np.sum(class_correct[i]), np.sum(class_total[i])))\n",
    "    else:\n",
    "        print('Kaggle train Accuracy of %5s: N/A (no training examples)' % (classes[i]))\n",
    "\n",
    "print('\\nKaggle train (Overall): %0d%% (%2d/%2d)' % (\n",
    "    100. * np.sum(class_correct) / np.sum(class_total),\n",
    "    np.sum(class_correct), np.sum(class_total)))\n",
    "print('======================================')\n",
    "\n",
    "############################################################################################################\n",
    "############################################################################################################\n",
    "############################################################################################################\n",
    "############################################################################################################\n",
    "\n",
    "# initialize lists to monitor test loss and accuracy\n",
    "class_correct = list(0. for i in range(10))\n",
    "class_total = list(0. for i in range(10))\n",
    "\n",
    "model.eval() # prep model for training\n",
    "\n",
    "for data, target in train_valid_loader:\n",
    "    # forward pass: compute predicted outputs by passing inputs to the model\n",
    "    output = model(data.to(device))[0]\n",
    "    # convert output probabilities to predicted class\n",
    "    _, pred = torch.max(output, 1)\n",
    "    # compare predictions to true label\n",
    "    correct = np.squeeze(pred.eq(target.to(device).data.view_as(pred)))\n",
    "    # calculate test accuracy for each object class\n",
    "    for i in range(64):\n",
    "        label = target.data[i]\n",
    "        class_correct[label] += correct[i].item()\n",
    "        class_total[label] += 1\n",
    "\n",
    "for i in range(10):\n",
    "    if class_total[i] > 0:\n",
    "        print('Train Accuracy of %5s: %2d%% (%2d/%2d)' % (\n",
    "            str(i), 100 * class_correct[i] / class_total[i],\n",
    "            np.sum(class_correct[i]), np.sum(class_total[i])))\n",
    "    else:\n",
    "        print('Train Accuracy of %5s: N/A (no training examples)' % (classes[i]))\n",
    "\n",
    "print('\\nTrain Accuracy (Overall): %0d%% (%2d/%2d)' % (\n",
    "    100. * np.sum(class_correct) / np.sum(class_total),\n",
    "    np.sum(class_correct), np.sum(class_total)))\n",
    "\n",
    "print('=====================================')\n",
    "\n",
    "############################################################################################################\n",
    "############################################################################################################\n",
    "############################################################################################################\n",
    "############################################################################################################\n",
    "\n",
    "\n",
    "# initialize lists to monitor test loss and accuracy\n",
    "class_correct = list(0. for i in range(10))\n",
    "class_total = list(0. for i in range(10))\n",
    "\n",
    "model.eval() # prep model for training\n",
    "\n",
    "for data, target in test_valid_loader:\n",
    "    # forward pass: compute predicted outputs by passing inputs to the model\n",
    "    output = model(data.to(device))[0]\n",
    "    # convert output probabilities to predicted class\n",
    "    _, pred = torch.max(output, 1)\n",
    "    # compare predictions to true label\n",
    "    correct = np.squeeze(pred.eq(target.to(device).data.view_as(pred)))\n",
    "    # calculate test accuracy for each object class\n",
    "    for i in range(64):\n",
    "        label = target.data[i]\n",
    "        class_correct[label] += correct[i].item()\n",
    "        class_total[label] += 1\n",
    "\n",
    "# calculate and print metrics\n",
    "\n",
    "for i in range(10):\n",
    "    if class_total[i] > 0:\n",
    "        print('Test Accuracy of %5s: %2d%% (%2d/%2d)' % (\n",
    "            str(i), 100 * class_correct[i] / class_total[i],\n",
    "            np.sum(class_correct[i]), np.sum(class_total[i])))\n",
    "    else:\n",
    "        print('Test Accuracy of %5s: N/A (no training examples)' % (classes[i]))\n",
    "\n",
    "print('\\nTest Accuracy (Overall): %0d%% (%2d/%2d)' % (\n",
    "    100. * np.sum(class_correct) / np.sum(class_total),\n",
    "    np.sum(class_correct), np.sum(class_total)))"
   ]
  },
  {
   "cell_type": "code",
   "execution_count": 39,
   "id": "46c41c88",
   "metadata": {},
   "outputs": [],
   "source": [
    "from torch.nn import CosineSimilarity\n",
    "\n",
    "def cosine_sim(x,y):\n",
    "    cos = CosineSimilarity(dim=1, eps=1e-6)\n",
    "    coef_of_similarity = cos(x.view(1,-1).float(), y.view(1,-1).float())\n",
    "    return coef_of_similarity"
   ]
  },
  {
   "cell_type": "code",
   "execution_count": 40,
   "id": "2d08f253",
   "metadata": {},
   "outputs": [
    {
     "data": {
      "text/plain": [
       "tensor([0, 1, 2, 3, 4, 5, 6, 7, 8, 9])"
      ]
     },
     "execution_count": 40,
     "metadata": {},
     "output_type": "execute_result"
    }
   ],
   "source": [
    "target.unique()"
   ]
  },
  {
   "cell_type": "code",
   "execution_count": 41,
   "id": "8a9013e4",
   "metadata": {},
   "outputs": [
    {
     "name": "stdout",
     "output_type": "stream",
     "text": [
      " cos sim between 0 and 0 is tensor([0.9958], device='cuda:0', grad_fn=<SumBackward1>)\n",
      " cos sim between 0 and 0 is tensor([0.9933], device='cuda:0', grad_fn=<SumBackward1>)\n",
      " cos sim between 0 and 0 is tensor([0.9980], device='cuda:0', grad_fn=<SumBackward1>)\n",
      " cos sim between 0 and 0 is tensor([0.9974], device='cuda:0', grad_fn=<SumBackward1>)\n",
      " cos sim between 0 and 0 is tensor([0.9987], device='cuda:0', grad_fn=<SumBackward1>)\n",
      " cos sim between 1 and 1 is tensor([0.9815], device='cuda:0', grad_fn=<SumBackward1>)\n",
      " cos sim between 1 and 1 is tensor([0.9895], device='cuda:0', grad_fn=<SumBackward1>)\n",
      " cos sim between 1 and 1 is tensor([0.9995], device='cuda:0', grad_fn=<SumBackward1>)\n",
      " cos sim between 1 and 1 is tensor([0.9998], device='cuda:0', grad_fn=<SumBackward1>)\n",
      " cos sim between 1 and 1 is tensor([0.9982], device='cuda:0', grad_fn=<SumBackward1>)\n",
      " cos sim between 2 and 2 is tensor([0.9921], device='cuda:0', grad_fn=<SumBackward1>)\n",
      " cos sim between 2 and 2 is tensor([0.9958], device='cuda:0', grad_fn=<SumBackward1>)\n",
      " cos sim between 2 and 2 is tensor([0.9954], device='cuda:0', grad_fn=<SumBackward1>)\n",
      " cos sim between 2 and 2 is tensor([0.9891], device='cuda:0', grad_fn=<SumBackward1>)\n",
      " cos sim between 3 and 3 is tensor([0.9976], device='cuda:0', grad_fn=<SumBackward1>)\n",
      " cos sim between 3 and 3 is tensor([0.9980], device='cuda:0', grad_fn=<SumBackward1>)\n",
      " cos sim between 3 and 3 is tensor([0.9879], device='cuda:0', grad_fn=<SumBackward1>)\n",
      " cos sim between 3 and 3 is tensor([0.9955], device='cuda:0', grad_fn=<SumBackward1>)\n",
      " cos sim between 3 and 3 is tensor([0.9994], device='cuda:0', grad_fn=<SumBackward1>)\n",
      " cos sim between 3 and 3 is tensor([0.9989], device='cuda:0', grad_fn=<SumBackward1>)\n",
      " cos sim between 4 and 4 is tensor([0.9786], device='cuda:0', grad_fn=<SumBackward1>)\n",
      " cos sim between 4 and 4 is tensor([0.9977], device='cuda:0', grad_fn=<SumBackward1>)\n",
      " cos sim between 4 and 4 is tensor([0.9983], device='cuda:0', grad_fn=<SumBackward1>)\n",
      " cos sim between 4 and 4 is tensor([0.9991], device='cuda:0', grad_fn=<SumBackward1>)\n",
      " cos sim between 4 and 4 is tensor([0.9992], device='cuda:0', grad_fn=<SumBackward1>)\n",
      " cos sim between 5 and 5 is tensor([0.9975], device='cuda:0', grad_fn=<SumBackward1>)\n",
      " cos sim between 5 and 5 is tensor([0.9942], device='cuda:0', grad_fn=<SumBackward1>)\n",
      " cos sim between 5 and 5 is tensor([0.9821], device='cuda:0', grad_fn=<SumBackward1>)\n",
      " cos sim between 5 and 5 is tensor([0.9718], device='cuda:0', grad_fn=<SumBackward1>)\n",
      " cos sim between 5 and 5 is tensor([0.9821], device='cuda:0', grad_fn=<SumBackward1>)\n",
      " cos sim between 6 and 6 is tensor([0.9934], device='cuda:0', grad_fn=<SumBackward1>)\n",
      " cos sim between 6 and 6 is tensor([0.9986], device='cuda:0', grad_fn=<SumBackward1>)\n",
      " cos sim between 6 and 6 is tensor([0.9934], device='cuda:0', grad_fn=<SumBackward1>)\n",
      " cos sim between 6 and 6 is tensor([0.9990], device='cuda:0', grad_fn=<SumBackward1>)\n",
      " cos sim between 6 and 6 is tensor([0.9989], device='cuda:0', grad_fn=<SumBackward1>)\n",
      " cos sim between 6 and 6 is tensor([0.9998], device='cuda:0', grad_fn=<SumBackward1>)\n",
      " cos sim between 6 and 6 is tensor([0.9995], device='cuda:0', grad_fn=<SumBackward1>)\n",
      " cos sim between 7 and 7 is tensor([0.9994], device='cuda:0', grad_fn=<SumBackward1>)\n",
      " cos sim between 7 and 7 is tensor([0.9963], device='cuda:0', grad_fn=<SumBackward1>)\n",
      " cos sim between 7 and 7 is tensor([0.9942], device='cuda:0', grad_fn=<SumBackward1>)\n",
      " cos sim between 7 and 7 is tensor([0.9970], device='cuda:0', grad_fn=<SumBackward1>)\n",
      " cos sim between 7 and 7 is tensor([0.9904], device='cuda:0', grad_fn=<SumBackward1>)\n",
      " cos sim between 7 and 7 is tensor([0.9948], device='cuda:0', grad_fn=<SumBackward1>)\n",
      " cos sim between 7 and 7 is tensor([0.9967], device='cuda:0', grad_fn=<SumBackward1>)\n",
      " cos sim between 8 and 8 is tensor([0.9891], device='cuda:0', grad_fn=<SumBackward1>)\n",
      " cos sim between 8 and 8 is tensor([0.9843], device='cuda:0', grad_fn=<SumBackward1>)\n",
      " cos sim between 9 and 9 is tensor([0.9976], device='cuda:0', grad_fn=<SumBackward1>)\n",
      " cos sim between 9 and 9 is tensor([0.9983], device='cuda:0', grad_fn=<SumBackward1>)\n",
      " cos sim between 9 and 9 is tensor([0.9961], device='cuda:0', grad_fn=<SumBackward1>)\n",
      " cos sim between 9 and 9 is tensor([0.9980], device='cuda:0', grad_fn=<SumBackward1>)\n",
      " cos sim between 9 and 9 is tensor([0.9965], device='cuda:0', grad_fn=<SumBackward1>)\n",
      " cos sim between 9 and 9 is tensor([0.9935], device='cuda:0', grad_fn=<SumBackward1>)\n",
      " cos sim between 9 and 9 is tensor([0.9932], device='cuda:0', grad_fn=<SumBackward1>)\n",
      " cos sim between 9 and 9 is tensor([0.9996], device='cuda:0', grad_fn=<SumBackward1>)\n"
     ]
    }
   ],
   "source": [
    "# indexes of all numbers and calculation of vector similarity between all similar(by image) numbers\n",
    "for class_number in target.unique():\n",
    "    listof = (target == class_number).nonzero(as_tuple=True)[0].tolist()\n",
    "    for i in range(len(listof)):\n",
    "        if i >= 1:\n",
    "            print(f' cos sim between {target[listof[i-1]]} and {target[listof[i]]} is {cosine_sim(model(data[listof[i-1]].cuda())[0], model(data[listof[i]].cuda())[0])}')"
   ]
  },
  {
   "cell_type": "code",
   "execution_count": 42,
   "id": "5c6a9687",
   "metadata": {},
   "outputs": [
    {
     "name": "stdout",
     "output_type": "stream",
     "text": [
      " cos sim between 3 and 6 is tensor([0.7629], device='cuda:0', grad_fn=<SumBackward1>)\n",
      " cos sim between 6 and 6 is tensor([0.9986], device='cuda:0', grad_fn=<SumBackward1>)\n",
      " cos sim between 6 and 6 is tensor([0.9934], device='cuda:0', grad_fn=<SumBackward1>)\n",
      " cos sim between 6 and 1 is tensor([0.8174], device='cuda:0', grad_fn=<SumBackward1>)\n",
      " cos sim between 1 and 6 is tensor([0.8354], device='cuda:0', grad_fn=<SumBackward1>)\n",
      " cos sim between 6 and 6 is tensor([1.], device='cuda:0', grad_fn=<SumBackward1>)\n",
      " cos sim between 6 and 7 is tensor([0.7061], device='cuda:0', grad_fn=<SumBackward1>)\n",
      " cos sim between 7 and 1 is tensor([0.9219], device='cuda:0', grad_fn=<SumBackward1>)\n",
      " cos sim between 1 and 6 is tensor([0.8174], device='cuda:0', grad_fn=<SumBackward1>)\n",
      " cos sim between 6 and 5 is tensor([0.9110], device='cuda:0', grad_fn=<SumBackward1>)\n",
      " cos sim between 5 and 6 is tensor([0.9110], device='cuda:0', grad_fn=<SumBackward1>)\n",
      " cos sim between 6 and 3 is tensor([0.7839], device='cuda:0', grad_fn=<SumBackward1>)\n",
      " cos sim between 3 and 6 is tensor([0.7594], device='cuda:0', grad_fn=<SumBackward1>)\n",
      " cos sim between 6 and 5 is tensor([0.8785], device='cuda:0', grad_fn=<SumBackward1>)\n",
      " cos sim between 5 and 1 is tensor([0.8154], device='cuda:0', grad_fn=<SumBackward1>)\n",
      " cos sim between 1 and 5 is tensor([0.8154], device='cuda:0', grad_fn=<SumBackward1>)\n",
      " cos sim between 5 and 1 is tensor([0.8154], device='cuda:0', grad_fn=<SumBackward1>)\n",
      " cos sim between 1 and 7 is tensor([0.8726], device='cuda:0', grad_fn=<SumBackward1>)\n",
      " cos sim between 7 and 6 is tensor([0.7061], device='cuda:0', grad_fn=<SumBackward1>)\n",
      " cos sim between 6 and 6 is tensor([1.], device='cuda:0', grad_fn=<SumBackward1>)\n",
      " cos sim between 6 and 1 is tensor([0.8354], device='cuda:0', grad_fn=<SumBackward1>)\n",
      " cos sim between 1 and 6 is tensor([0.8341], device='cuda:0', grad_fn=<SumBackward1>)\n",
      " cos sim between 6 and 4 is tensor([0.8102], device='cuda:0', grad_fn=<SumBackward1>)\n",
      " cos sim between 4 and 1 is tensor([0.9039], device='cuda:0', grad_fn=<SumBackward1>)\n",
      " cos sim between 1 and 1 is tensor([0.9815], device='cuda:0', grad_fn=<SumBackward1>)\n",
      " cos sim between 1 and 7 is tensor([0.8726], device='cuda:0', grad_fn=<SumBackward1>)\n",
      " cos sim between 7 and 3 is tensor([0.8608], device='cuda:0', grad_fn=<SumBackward1>)\n",
      " cos sim between 3 and 6 is tensor([0.7629], device='cuda:0', grad_fn=<SumBackward1>)\n",
      " cos sim between 6 and 4 is tensor([0.8187], device='cuda:0', grad_fn=<SumBackward1>)\n",
      " cos sim between 4 and 6 is tensor([0.8187], device='cuda:0', grad_fn=<SumBackward1>)\n",
      " cos sim between 6 and 1 is tensor([0.8796], device='cuda:0', grad_fn=<SumBackward1>)\n",
      " cos sim between 1 and 6 is tensor([0.8624], device='cuda:0', grad_fn=<SumBackward1>)\n",
      " cos sim between 6 and 3 is tensor([0.7909], device='cuda:0', grad_fn=<SumBackward1>)\n",
      " cos sim between 3 and 1 is tensor([0.8183], device='cuda:0', grad_fn=<SumBackward1>)\n",
      " cos sim between 1 and 1 is tensor([1.], device='cuda:0', grad_fn=<SumBackward1>)\n",
      " cos sim between 1 and 1 is tensor([1.], device='cuda:0', grad_fn=<SumBackward1>)\n",
      " cos sim between 1 and 4 is tensor([0.8652], device='cuda:0', grad_fn=<SumBackward1>)\n",
      " cos sim between 4 and 3 is tensor([0.7436], device='cuda:0', grad_fn=<SumBackward1>)\n",
      " cos sim between 3 and 3 is tensor([0.9976], device='cuda:0', grad_fn=<SumBackward1>)\n",
      " cos sim between 3 and 4 is tensor([0.7384], device='cuda:0', grad_fn=<SumBackward1>)\n",
      " cos sim between 4 and 1 is tensor([0.8652], device='cuda:0', grad_fn=<SumBackward1>)\n",
      " cos sim between 1 and 3 is tensor([0.8183], device='cuda:0', grad_fn=<SumBackward1>)\n",
      " cos sim between 3 and 4 is tensor([0.7384], device='cuda:0', grad_fn=<SumBackward1>)\n",
      " cos sim between 4 and 6 is tensor([0.8167], device='cuda:0', grad_fn=<SumBackward1>)\n",
      " cos sim between 6 and 4 is tensor([0.8167], device='cuda:0', grad_fn=<SumBackward1>)\n",
      " cos sim between 4 and 7 is tensor([0.8571], device='cuda:0', grad_fn=<SumBackward1>)\n",
      " cos sim between 7 and 5 is tensor([0.7774], device='cuda:0', grad_fn=<SumBackward1>)\n",
      " cos sim between 5 and 6 is tensor([0.9110], device='cuda:0', grad_fn=<SumBackward1>)\n",
      " cos sim between 6 and 7 is tensor([0.6994], device='cuda:0', grad_fn=<SumBackward1>)\n",
      " cos sim between 7 and 6 is tensor([0.7147], device='cuda:0', grad_fn=<SumBackward1>)\n",
      " cos sim between 6 and 1 is tensor([0.8341], device='cuda:0', grad_fn=<SumBackward1>)\n",
      " cos sim between 1 and 1 is tensor([1.0000], device='cuda:0', grad_fn=<SumBackward1>)\n",
      " cos sim between 1 and 6 is tensor([0.8341], device='cuda:0', grad_fn=<SumBackward1>)\n",
      " cos sim between 6 and 6 is tensor([1.], device='cuda:0', grad_fn=<SumBackward1>)\n",
      " cos sim between 6 and 7 is tensor([0.7147], device='cuda:0', grad_fn=<SumBackward1>)\n",
      " cos sim between 7 and 1 is tensor([0.9219], device='cuda:0', grad_fn=<SumBackward1>)\n",
      " cos sim between 1 and 1 is tensor([0.9815], device='cuda:0', grad_fn=<SumBackward1>)\n",
      " cos sim between 1 and 5 is tensor([0.8154], device='cuda:0', grad_fn=<SumBackward1>)\n",
      " cos sim between 5 and 3 is tensor([0.9023], device='cuda:0', grad_fn=<SumBackward1>)\n",
      " cos sim between 3 and 3 is tensor([0.9976], device='cuda:0', grad_fn=<SumBackward1>)\n",
      " cos sim between 3 and 7 is tensor([0.8608], device='cuda:0', grad_fn=<SumBackward1>)\n",
      " cos sim between 7 and 7 is tensor([1.0000], device='cuda:0', grad_fn=<SumBackward1>)\n",
      " cos sim between 7 and 6 is tensor([0.7147], device='cuda:0', grad_fn=<SumBackward1>)\n"
     ]
    }
   ],
   "source": [
    "# cos sim between different numbers\n",
    "for i in range(len(target)):\n",
    "    if i >= 1:\n",
    "        print(f' cos sim between {target[target[i-1]]} and {target[target[i]]} is {cosine_sim(model(data[target[i-1]].cuda())[0], model(data[target[i]].cuda())[0])}')"
   ]
  },
  {
   "cell_type": "code",
   "execution_count": 43,
   "id": "e1e584ce",
   "metadata": {},
   "outputs": [
    {
     "data": {
      "image/png": "[encoded data removed]",
      "text/plain": [
       "<Figure size 200x200 with 1 Axes>"
      ]
     },
     "metadata": {},
     "output_type": "display_data"
    },
    {
     "data": {
      "image/png": "[encoded data removed]",
      "text/plain": [
       "<Figure size 200x200 with 1 Axes>"
      ]
     },
     "metadata": {},
     "output_type": "display_data"
    },
    {
     "data": {
      "image/png": "[encoded data removed]",
      "text/plain": [
       "<Figure size 200x200 with 1 Axes>"
      ]
     },
     "metadata": {},
     "output_type": "display_data"
    },
    {
     "data": {
      "image/png": "[encoded data removed]",
      "text/plain": [
       "<Figure size 200x200 with 1 Axes>"
      ]
     },
     "metadata": {},
     "output_type": "display_data"
    }
   ],
   "source": [
    "plt.figure(figsize=(2, 2))\n",
    "plt.imshow(data[2].view(28,28), interpolation='nearest')\n",
    "plt.show()\n",
    "plt.figure(figsize=(2, 2))\n",
    "plt.imshow(data[3].view(28,28), interpolation='nearest')\n",
    "plt.show()\n",
    "plt.figure(figsize=(2, 2))\n",
    "plt.imshow(data[5].view(28,28), interpolation='nearest')\n",
    "plt.show()\n",
    "plt.figure(figsize=(2, 2))\n",
    "plt.imshow(data[7].view(28,28), interpolation='nearest')\n",
    "plt.show()"
   ]
  },
  {
   "cell_type": "code",
   "execution_count": 44,
   "id": "234fa885",
   "metadata": {},
   "outputs": [],
   "source": [
    "def view_classify(img, ps, version=\"MNIST\"):\n",
    "    ''' Function for viewing an image and it's predicted classes.\n",
    "    '''\n",
    "    ps = ps.data.numpy().squeeze()\n",
    "\n",
    "    fig, (ax1, ax2) = plt.subplots(figsize=(6,9), ncols=2)\n",
    "    ax1.imshow(img.resize_(1, 28, 28).numpy().squeeze())\n",
    "    ax1.axis('off')\n",
    "    ax2.barh(np.arange(10), ps)\n",
    "    ax2.set_aspect(0.1)\n",
    "    ax2.set_yticks(np.arange(10))\n",
    "#     if version == \"MNIST\":\n",
    "#         ax2.set_yticklabels(np.arange(10))\n",
    "#     elif version == \"Fashion\":\n",
    "#         ax2.set_yticklabels(['T-shirt/top',\n",
    "#                             'Trouser',\n",
    "#                             'Pullover',\n",
    "#                             'Dress',\n",
    "#                             'Coat',\n",
    "#                             'Sandal',\n",
    "#                             'Shirt',\n",
    "#                             'Sneaker',\n",
    "#                             'Bag',\n",
    "#                             'Ankle Boot'], size='small');\n",
    "#     ax2.set_title('Class Probability')\n",
    "    ax2.set_xlim(0, 1.1)\n",
    "\n",
    "    plt.tight_layout()"
   ]
  },
  {
   "cell_type": "code",
   "execution_count": 46,
   "id": "d9693d2b",
   "metadata": {},
   "outputs": [
    {
     "name": "stdout",
     "output_type": "stream",
     "text": [
      "Predicted Digit = 6\n"
     ]
    },
    {
     "data": {
      "image/png": "[encoded data removed]",
      "text/plain": [
       "<Figure size 600x900 with 2 Axes>"
      ]
     },
     "metadata": {},
     "output_type": "display_data"
    }
   ],
   "source": [
    "img = data[5].view(1,784)\n",
    "# Turn off gradients to speed up this part\n",
    "with torch.no_grad():\n",
    "    logps = model(img.cuda())[0]\n",
    "\n",
    "# Output of the network are log-probabilities, need to take exponential for probabilities\n",
    "ps = torch.exp(logps).cpu()\n",
    "probab = list(ps.cpu().numpy()[0])\n",
    "print(\"Predicted Digit =\", probab.index(max(probab)))\n",
    "view_classify(img.view(1, 28, 28), ps)"
   ]
  },
  {
   "cell_type": "code",
   "execution_count": 45,
   "id": "98b2c2e5",
   "metadata": {},
   "outputs": [
    {
     "name": "stdout",
     "output_type": "stream",
     "text": [
      "Predicted Digit = 7\n"
     ]
    },
    {
     "data": {
      "image/png": "[encoded data removed]",
      "text/plain": [
       "<Figure size 600x900 with 2 Axes>"
      ]
     },
     "metadata": {},
     "output_type": "display_data"
    }
   ],
   "source": [
    "images, labels = next(iter1)\n",
    "\n",
    "img = images[0].view(1, 784)\n",
    "# Turn off gradients to speed up this part\n",
    "with torch.no_grad():\n",
    "    logps = model(img.cuda())[0]\n",
    "\n",
    "# Output of the network are log-probabilities, need to take exponential for probabilities\n",
    "ps = torch.exp(logps).cpu()\n",
    "probab = list(ps.cpu().numpy()[0])\n",
    "print(\"Predicted Digit =\", probab.index(max(probab)))\n",
    "view_classify(img.view(1, 28, 28), ps)"
   ]
  },
  {
   "cell_type": "code",
   "execution_count": null,
   "id": "d2c1a782",
   "metadata": {},
   "outputs": [],
   "source": []
  }
 ],
 "metadata": {
  "kernelspec": {
   "display_name": "Python 3 (ipykernel)",
   "language": "python",
   "name": "python3"
  },
  "language_info": {
   "codemirror_mode": {
    "name": "ipython",
    "version": 3
   },
   "file_extension": ".py",
   "mimetype": "text/x-python",
   "name": "python",
   "nbconvert_exporter": "python",
   "pygments_lexer": "ipython3",
   "version": "3.9.13"
  }
 },
 "nbformat": 4,
 "nbformat_minor": 5
}
